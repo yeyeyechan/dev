{
 "cells": [
  {
   "cell_type": "code",
   "execution_count": 5,
   "metadata": {},
   "outputs": [],
   "source": [
    "import requests\n",
    "from xml.etree import ElementTree"
   ]
  },
  {
   "cell_type": "code",
   "execution_count": 48,
   "metadata": {},
   "outputs": [],
   "source": [
    "def get_holiday (ServiceKey,pageNo,numOfRows,solYear,solMonth):\n",
    "    params = {\n",
    "        \"solYear\" : \"\",\n",
    "        \"solMonth\" : \"\",\n",
    "        \"ServiceKey\" : \"\",\n",
    "        #\"pageNo\" : \"\",\n",
    "        #\"numOfRows\" : \"\",\n",
    "\n",
    "    }\n",
    "    params[\"ServiceKey\"] = ServiceKey\n",
    "    #params[\"pageNo\"] = pageNo\n",
    "    #params[\"numOfRows\"] = numOfRows\n",
    "    params[\"solYear\"] = solYear\n",
    "    params[\"solMonth\"] = solMonth\n",
    "    print(params)\n",
    "    response = requests.get(\"http://apis.data.go.kr/B090041/openapi/service/SpcdeInfoService/getHoliDeInfo\", params = params)\n",
    "    \n",
    "    tree = response.text\n",
    "    print(response.url)\n",
    "    \n",
    "    return tree\n",
    "\n",
    "\n"
   ]
  },
  {
   "cell_type": "code",
   "execution_count": 49,
   "metadata": {},
   "outputs": [
    {
     "name": "stdout",
     "output_type": "stream",
     "text": [
      "{'solYear': '2018', 'solMonth': '09', 'ServiceKey': 'IH3eLzricz4H%2BL6d6%2F6Jsfgv2FLrk2Gcb%2BtTO6kosso8AlkHeqZZbSyjsKAuBU9HrH2%2FGfAkFC2mXxZgv3RE8g%3D%3D'}\n",
      "http://apis.data.go.kr/B090041/openapi/service/SpcdeInfoService/getHoliDeInfo?solYear=2018&solMonth=09&ServiceKey=IH3eLzricz4H%252BL6d6%252F6Jsfgv2FLrk2Gcb%252BtTO6kosso8AlkHeqZZbSyjsKAuBU9HrH2%252FGfAkFC2mXxZgv3RE8g%253D%253D\n"
     ]
    },
    {
     "data": {
      "text/plain": [
       "'<OpenAPI_ServiceResponse>\\n\\t<cmmMsgHeader>\\n\\t\\t<errMsg>SERVICE ERROR</errMsg>\\n\\t\\t<returnAuthMsg>SERVICE_KEY_IS_NOT_REGISTERED_ERROR</returnAuthMsg>\\n\\t\\t<returnReasonCode>30</returnReasonCode>\\n\\t</cmmMsgHeader>\\n</OpenAPI_ServiceResponse>'"
      ]
     },
     "execution_count": 49,
     "metadata": {},
     "output_type": "execute_result"
    }
   ],
   "source": [
    "ServiceKey = 'IH3eLzricz4H%2BL6d6%2F6Jsfgv2FLrk2Gcb%2BtTO6kosso8AlkHeqZZbSyjsKAuBU9HrH2%2FGfAkFC2mXxZgv3RE8g%3D%3D''\n",
    "xtree = get_holiday(ServiceKey, \"\", \"\", \"2018\", \"09\" )\n",
    "xtree"
   ]
  },
  {
   "cell_type": "code",
   "execution_count": 17,
   "metadata": {},
   "outputs": [
    {
     "ename": "AttributeError",
     "evalue": "'int' object has no attribute 'text'",
     "output_type": "error",
     "traceback": [
      "\u001b[1;31m---------------------------------------------------------------------------\u001b[0m",
      "\u001b[1;31mAttributeError\u001b[0m                            Traceback (most recent call last)",
      "\u001b[1;32m<ipython-input-17-ef7ebe313695>\u001b[0m in \u001b[0;36m<module>\u001b[1;34m\u001b[0m\n\u001b[0;32m      1\u001b[0m \u001b[1;32mfor\u001b[0m \u001b[0mnode\u001b[0m \u001b[1;32min\u001b[0m \u001b[0mxtree\u001b[0m\u001b[1;33m:\u001b[0m\u001b[1;33m\u001b[0m\u001b[1;33m\u001b[0m\u001b[0m\n\u001b[1;32m----> 2\u001b[1;33m     \u001b[0mresultCode\u001b[0m \u001b[1;33m=\u001b[0m \u001b[0mnode\u001b[0m\u001b[1;33m.\u001b[0m\u001b[0mfind\u001b[0m\u001b[1;33m(\u001b[0m\u001b[1;34m\"resultCode\"\u001b[0m\u001b[1;33m)\u001b[0m\u001b[1;33m.\u001b[0m\u001b[0mtext\u001b[0m\u001b[1;33m\u001b[0m\u001b[1;33m\u001b[0m\u001b[0m\n\u001b[0m",
      "\u001b[1;31mAttributeError\u001b[0m: 'int' object has no attribute 'text'"
     ]
    }
   ],
   "source": [
    "for node in xtree:\n",
    "    resultCode = node.find(\"resultCode\").text"
   ]
  },
  {
   "cell_type": "code",
   "execution_count": 41,
   "metadata": {},
   "outputs": [
    {
     "name": "stdout",
     "output_type": "stream",
     "text": [
      "request_query: http://apis.data.go.kr/B090041/openapi/service/SpcdeInfoService/getHoliDeInfo?solYear=2018&solMonth=09&serviceKey=IH3eLzricz4H%2BL6d6%2F6Jsfgv2FLrk2Gcb%2BtTO6kosso8AlkHeqZZbSyjsKAuBU9HrH2%2FGfAkFC2mXxZgv3RE8g%3D%3D\n",
      "status_code:200\n",
      "<?xml version=\"1.0\" encoding=\"UTF-8\" standalone=\"yes\"?><response><header><resultCode>00</resultCode><resultMsg>NORMAL SERVICE.</resultMsg></header><body><items><item><dateKind>01</dateKind><dateName>추석</dateName><isHoliday>Y</isHoliday><locdate>20180923</locdate><seq>1</seq></item><item><dateKind>01</dateKind><dateName>추석</dateName><isHoliday>Y</isHoliday><locdate>20180924</locdate><seq>1</seq></item><item><dateKind>01</dateKind><dateName>추석</dateName><isHoliday>Y</isHoliday><locdate>20180925</locdate><seq>1</seq></item><item><dateKind>01</dateKind><dateName>대체휴무일</dateName><isHoliday>Y</isHoliday><locdate>20180926</locdate><seq>1</seq></item></items><numOfRows>10</numOfRows><pageNo>1</pageNo><totalCount>4</totalCount></body></response>\n"
     ]
    }
   ],
   "source": [
    "import requests\n",
    "\n",
    "def get_request_query(url, operation, params, serviceKey):\n",
    "    import urllib.parse as urlparse\n",
    "    params = urlparse.urlencode(params)\n",
    "    request_query = url + '/' + operation + '?' + params + '&' + 'serviceKey' + '=' + serviceKey\n",
    "    return request_query\n",
    "\n",
    "\n",
    "# 요청 URL과 오퍼레이션\n",
    "URL = 'http://apis.data.go.kr/B090041/openapi/service/SpcdeInfoService'\n",
    "OPERATION = 'getHoliDeInfo' # 국경일 + 공휴일 정보 조회 오퍼레이션\n",
    "\n",
    "# 파라미터\n",
    "SERVICEKEY = 'IH3eLzricz4H%2BL6d6%2F6Jsfgv2FLrk2Gcb%2BtTO6kosso8AlkHeqZZbSyjsKAuBU9HrH2%2FGfAkFC2mXxZgv3RE8g%3D%3D'\n",
    "solYear  = '2018'  # 연도\n",
    "solMonth = '09'   # 월\n",
    "PARAMS = {'solYear':solYear, 'solMonth':solMonth}\n",
    "\n",
    "\n",
    "request_query = get_request_query(URL, OPERATION, PARAMS, SERVICEKEY)\n",
    "print('request_query:', request_query)\n",
    "response = requests.get(url=request_query)\n",
    "print('status_code:' + str(response.status_code))\n",
    "\n",
    "\n",
    "if True == response.ok:\n",
    "    print(response.text)"
   ]
  },
  {
   "cell_type": "code",
   "execution_count": null,
   "metadata": {},
   "outputs": [],
   "source": []
  }
 ],
 "metadata": {
  "kernelspec": {
   "display_name": "Python 3",
   "language": "python",
   "name": "python3"
  },
  "language_info": {
   "codemirror_mode": {
    "name": "ipython",
    "version": 3
   },
   "file_extension": ".py",
   "mimetype": "text/x-python",
   "name": "python",
   "nbconvert_exporter": "python",
   "pygments_lexer": "ipython3",
   "version": "3.7.7"
  }
 },
 "nbformat": 4,
 "nbformat_minor": 4
}
