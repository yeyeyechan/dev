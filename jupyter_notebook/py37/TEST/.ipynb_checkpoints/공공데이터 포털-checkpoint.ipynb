{
 "cells": [
  {
   "cell_type": "code",
   "execution_count": 60,
   "metadata": {},
   "outputs": [],
   "source": [
    "import requests\n",
    "from xml.etree import ElementTree\n",
    "import urllib.parse as urlparse\n"
   ]
  },
  {
   "cell_type": "code",
   "execution_count": 68,
   "metadata": {},
   "outputs": [],
   "source": [
    "\n",
    "# 공공 데이터 포탈 api 호출 공통함수\n",
    "def call_api(ServiceKey,url,  params, operation):\n",
    "    params = urlparse.urlencode(params)\n",
    "    request_query = url + '/' + operation + '?' + params + '&' + 'serviceKey' + '=' + ServiceKey\n",
    "    response = requests.get(url=request_query)\n",
    "    print('status_code:' + str(response.status_code))\n",
    "\n",
    "\n",
    "    if True == response.ok:\n",
    "        print(response.text)\n",
    "\n",
    "#공공데이터 포탈 공휴일 호출 함수\n",
    "def get_holiday (solYear,solMonth):\n",
    "    params = {\n",
    "        \"solYear\" : \"\",\n",
    "        \"solMonth\" : \"\",\n",
    "    }   \n",
    "    params[\"solYear\"] = solYear\n",
    "    params[\"solMonth\"] = solMonth\n",
    "    ServiceKey = 'IH3eLzricz4H%2BL6d6%2F6Jsfgv2FLrk2Gcb%2BtTO6kosso8AlkHeqZZbSyjsKAuBU9HrH2%2FGfAkFC2mXxZgv3RE8g%3D%3D'\n",
    "\n",
    "    URL = 'http://apis.data.go.kr/B090041/openapi/service/SpcdeInfoService'\n",
    "    OPERATION = 'getHoliDeInfo' # 국경일 + 공휴일 정보 조회 오퍼레이션 \n",
    "    \n",
    "    call_api(ServiceKey, URL, params, OPERATION)\n",
    "\n",
    "\n"
   ]
  },
  {
   "cell_type": "code",
   "execution_count": 69,
   "metadata": {},
   "outputs": [
    {
     "name": "stdout",
     "output_type": "stream",
     "text": [
      "status_code:200\n",
      "<?xml version=\"1.0\" encoding=\"UTF-8\" standalone=\"yes\"?><response><header><resultCode>00</resultCode><resultMsg>NORMAL SERVICE.</resultMsg></header><body><items><item><dateKind>01</dateKind><dateName>1월1일</dateName><isHoliday>Y</isHoliday><locdate>20200101</locdate><seq>1</seq></item><item><dateKind>01</dateKind><dateName>설날</dateName><isHoliday>Y</isHoliday><locdate>20200124</locdate><seq>1</seq></item><item><dateKind>01</dateKind><dateName>설날</dateName><isHoliday>Y</isHoliday><locdate>20200125</locdate><seq>1</seq></item><item><dateKind>01</dateKind><dateName>설날</dateName><isHoliday>Y</isHoliday><locdate>20200126</locdate><seq>1</seq></item><item><dateKind>01</dateKind><dateName>설날</dateName><isHoliday>Y</isHoliday><locdate>20200127</locdate><seq>1</seq></item></items><numOfRows>10</numOfRows><pageNo>1</pageNo><totalCount>5</totalCount></body></response>\n"
     ]
    }
   ],
   "source": [
    "get_holiday(\"2020\", \"01\")"
   ]
  },
  {
   "cell_type": "code",
   "execution_count": null,
   "metadata": {},
   "outputs": [],
   "source": []
  }
 ],
 "metadata": {
  "kernelspec": {
   "display_name": "Python 3",
   "language": "python",
   "name": "python3"
  },
  "language_info": {
   "codemirror_mode": {
    "name": "ipython",
    "version": 3
   },
   "file_extension": ".py",
   "mimetype": "text/x-python",
   "name": "python",
   "nbconvert_exporter": "python",
   "pygments_lexer": "ipython3",
   "version": "3.7.7"
  }
 },
 "nbformat": 4,
 "nbformat_minor": 4
}
