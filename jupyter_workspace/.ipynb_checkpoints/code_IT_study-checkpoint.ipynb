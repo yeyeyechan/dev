{
 "cells": [
  {
   "cell_type": "code",
   "execution_count": 26,
   "metadata": {},
   "outputs": [],
   "source": [
    "import pandas as pd\n",
    "\n",
    "data = pd.read_csv(\"young_survey.csv\")\n",
    "\n",
    "data_new = data.corr()[\"Getting up\"][1:19]"
   ]
  },
  {
   "cell_type": "code",
   "execution_count": 27,
   "metadata": {},
   "outputs": [
    {
     "data": {
      "text/plain": [
       "Opera                      -0.071819\n",
       "Slow songs or fast songs   -0.052613\n",
       "Folk                       -0.049612\n",
       "Punk                       -0.029189\n",
       "Metal or Hardrock          -0.026769\n",
       "Country                    -0.025315\n",
       "Latino                     -0.015060\n",
       "Reggae, Ska                -0.008434\n",
       "Musical                     0.011869\n",
       "Classical music             0.014285\n",
       "Swing, Jazz                 0.019556\n",
       "Techno, Trance              0.019863\n",
       "Dance                       0.027249\n",
       "Alternative                 0.027540\n",
       "Rock n roll                 0.028889\n",
       "Hiphop, Rap                 0.038980\n",
       "Pop                         0.079101\n",
       "Rock                        0.105245\n",
       "Name: Getting up, dtype: float64"
      ]
     },
     "execution_count": 27,
     "metadata": {},
     "output_type": "execute_result"
    }
   ],
   "source": [
    "data_new.sort_values(ascending=True)"
   ]
  },
  {
   "cell_type": "code",
   "execution_count": 28,
   "metadata": {},
   "outputs": [],
   "source": [
    "%matplotlib inline"
   ]
  },
  {
   "cell_type": "code",
   "execution_count": 35,
   "metadata": {},
   "outputs": [
    {
     "name": "stdout",
     "output_type": "stream",
     "text": [
      "0.34381621439042986\n",
      "0.4183989446458914\n",
      "-0.07939652994810564\n",
      "0.24213118198630185\n"
     ]
    }
   ],
   "source": [
    "data = pd.read_csv('young_survey.csv')\n",
    "data_new = data.corr()\n",
    "\n",
    "no1 = data_new[\"Musical instruments\"].sort_values(ascending=False)\n",
    "no2 = data_new[\"Spending on looks\"].sort_values(ascending=False)\n",
    "no3 = data_new[\"Writing notes\"].sort_values(ascending=False)\n",
    "no4 = data_new[\"Prioritising workload\"].sort_values(ascending=False)\n",
    "\n",
    "def checkCorre(dataframe, colName):\n",
    "    for row in dataframe.index:\n",
    "        if row == colName:\n",
    "            print(dataframe.loc[row])\n",
    "            \n",
    "checkCorre(no1, \"Writing\") # no1.loc[\"Musical instruments\", \"Writing\"]\n",
    "checkCorre(no2, \"Branded clothing\")\n",
    "checkCorre(no3, \"New environment\")\n",
    "checkCorre(no4, \"Healthy eating\")"
   ]
  },
  {
   "cell_type": "code",
   "execution_count": 39,
   "metadata": {
    "scrolled": true
   },
   "outputs": [
    {
     "name": "stdout",
     "output_type": "stream",
     "text": [
      "     Music  Slow songs or fast songs  Dance  Folk  Country  Classical music  \\\n",
      "0      5.0                       3.0    2.0   1.0      2.0              2.0   \n",
      "1      4.0                       4.0    2.0   1.0      1.0              1.0   \n",
      "2      5.0                       5.0    2.0   2.0      3.0              4.0   \n",
      "3      5.0                       3.0    2.0   1.0      1.0              1.0   \n",
      "4      5.0                       3.0    4.0   3.0      2.0              4.0   \n",
      "..     ...                       ...    ...   ...      ...              ...   \n",
      "992    5.0                       2.0    5.0   2.0      2.0              5.0   \n",
      "993    4.0                       4.0    5.0   1.0      3.0              4.0   \n",
      "994    4.0                       3.0    1.0   1.0      2.0              2.0   \n",
      "995    5.0                       3.0    3.0   3.0      1.0              3.0   \n",
      "996    5.0                       5.0    4.0   3.0      2.0              3.0   \n",
      "\n",
      "     Musical  Pop  Rock  Metal or Hardrock  ...  Spending on looks  \\\n",
      "0        1.0  5.0   5.0                1.0  ...                3.0   \n",
      "1        2.0  3.0   5.0                4.0  ...                2.0   \n",
      "2        5.0  3.0   5.0                3.0  ...                3.0   \n",
      "3        1.0  2.0   2.0                1.0  ...                4.0   \n",
      "4        3.0  5.0   3.0                1.0  ...                3.0   \n",
      "..       ...  ...   ...                ...  ...                ...   \n",
      "992      4.0  4.0   4.0                3.0  ...                4.0   \n",
      "993      1.0  4.0   1.0                1.0  ...                1.0   \n",
      "994      2.0  3.0   4.0                1.0  ...                2.0   \n",
      "995      1.0  3.0   4.0                1.0  ...                3.0   \n",
      "996      3.0  4.0   1.0                1.0  ...                1.0   \n",
      "\n",
      "     Spending on gadgets  Spending on healthy eating   Age  Height  Weight  \\\n",
      "0                      1                         3.0  20.0   163.0    48.0   \n",
      "1                      5                         2.0  19.0   163.0    58.0   \n",
      "2                      4                         2.0  20.0   176.0    67.0   \n",
      "3                      4                         1.0  22.0   172.0    59.0   \n",
      "4                      2                         4.0  20.0   170.0    59.0   \n",
      "..                   ...                         ...   ...     ...     ...   \n",
      "992                    3                         4.0  20.0   164.0    57.0   \n",
      "993                    5                         3.0  27.0   183.0    80.0   \n",
      "994                    2                         5.0  18.0   173.0    75.0   \n",
      "995                    3                         3.0  25.0   173.0    58.0   \n",
      "996                    1                         5.0  21.0   185.0    72.0   \n",
      "\n",
      "     Number of siblings  Gender  Handedness          Education  \n",
      "0                   1.0  female       right  bachelor's degree  \n",
      "1                   2.0  female       right  bachelor's degree  \n",
      "2                   2.0  female       right        high school  \n",
      "3                   1.0  female       right  bachelor's degree  \n",
      "4                   1.0  female       right        high school  \n",
      "..                  ...     ...         ...                ...  \n",
      "992                 1.0  female       right        high school  \n",
      "993                 5.0    male        left    master's degree  \n",
      "994                 0.0  female       right        high school  \n",
      "995                 1.0  female       right  bachelor's degree  \n",
      "996                 1.0    male       right        high school  \n",
      "\n",
      "[997 rows x 147 columns]\n"
     ]
    }
   ],
   "source": [
    "data = pd.read_csv(\"survey.csv\")\n",
    "print(data)"
   ]
  },
  {
   "cell_type": "code",
   "execution_count": 41,
   "metadata": {},
   "outputs": [
    {
     "name": "stdout",
     "output_type": "stream",
     "text": [
      "Collecting package metadata (current_repodata.json): ...working... done\n",
      "Solving environment: ...working... done\n",
      "\n",
      "Note: you may need to restart the kernel to use updated packages.\n"
     ]
    },
    {
     "name": "stderr",
     "output_type": "stream",
     "text": [
      "\n",
      "\n",
      "==> WARNING: A newer version of conda exists. <==\n",
      "  current version: 4.7.12\n",
      "  latest version: 4.8.5\n",
      "\n",
      "Please update conda by running\n",
      "\n",
      "    $ conda update -n base -c defaults conda\n",
      "\n",
      "\n"
     ]
    },
    {
     "name": "stdout",
     "output_type": "stream",
     "text": [
      "\n",
      "# All requested packages already installed.\n",
      "\n"
     ]
    }
   ],
   "source": [
    "conda install seaborn==0.9.0"
   ]
  },
  {
   "cell_type": "code",
   "execution_count": 43,
   "metadata": {},
   "outputs": [
    {
     "name": "stdout",
     "output_type": "stream",
     "text": [
      "Collecting package metadata (current_repodata.json): ...working... done"
     ]
    },
    {
     "name": "stderr",
     "output_type": "stream",
     "text": [
      "\n",
      "\n",
      "==> WARNING: A newer version of conda exists. <==\n",
      "  current version: 4.7.12\n",
      "  latest version: 4.8.5\n",
      "\n",
      "Please update conda by running\n",
      "\n",
      "    $ conda update -n base -c defaults conda\n",
      "\n",
      "\n"
     ]
    },
    {
     "name": "stdout",
     "output_type": "stream",
     "text": [
      "\n",
      "Solving environment: ...working... done\n",
      "\n",
      "## Package Plan ##\n",
      "\n",
      "  environment location: C:\\anaconda3\\envs\\py37\n",
      "\n",
      "  added / updated specs:\n",
      "    - numpy\n",
      "\n",
      "\n",
      "The following packages will be downloaded:\n",
      "\n",
      "    package                    |            build\n",
      "    ---------------------------|-----------------\n",
      "    pip-20.2.3                 |           py37_0         1.8 MB\n",
      "    setuptools-50.3.0          |   py37h9490d1a_1         727 KB\n",
      "    ------------------------------------------------------------\n",
      "                                           Total:         2.5 MB\n",
      "\n",
      "The following packages will be UPDATED:\n",
      "\n",
      "  pip                                         20.2.2-py37_0 --> 20.2.3-py37_0\n",
      "  setuptools                                  49.6.0-py37_0 --> 50.3.0-py37h9490d1a_1\n",
      "\n",
      "\n",
      "\n",
      "Downloading and Extracting Packages\n",
      "\n",
      "pip-20.2.3           | 1.8 MB    |            |   0% \n",
      "pip-20.2.3           | 1.8 MB    |            |   1% \n",
      "pip-20.2.3           | 1.8 MB    | 7          |   7% \n",
      "pip-20.2.3           | 1.8 MB    | #2         |  12% \n",
      "pip-20.2.3           | 1.8 MB    | ####2      |  43% \n",
      "pip-20.2.3           | 1.8 MB    | #######3   |  74% \n",
      "pip-20.2.3           | 1.8 MB    | ########## | 100% \n",
      "\n",
      "setuptools-50.3.0    | 727 KB    |            |   0% \n",
      "setuptools-50.3.0    | 727 KB    | 2          |   2% \n",
      "setuptools-50.3.0    | 727 KB    | ###5       |  35% \n",
      "setuptools-50.3.0    | 727 KB    | #######    |  70% \n",
      "setuptools-50.3.0    | 727 KB    | ########## | 100% \n",
      "Preparing transaction: ...working... done\n",
      "Verifying transaction: ...working... done\n",
      "Executing transaction: ...working... done\n"
     ]
    }
   ],
   "source": [
    "!conda upgrade numpy --yes\n"
   ]
  },
  {
   "cell_type": "code",
   "execution_count": 44,
   "metadata": {},
   "outputs": [
    {
     "ename": "AttributeError",
     "evalue": "module 'numpy.linalg.lapack_lite' has no attribute '_ilp64'",
     "output_type": "error",
     "traceback": [
      "\u001b[1;31m---------------------------------------------------------------------------\u001b[0m",
      "\u001b[1;31mAttributeError\u001b[0m                            Traceback (most recent call last)",
      "\u001b[1;32m<ipython-input-44-26b6a9dab9c3>\u001b[0m in \u001b[0;36m<module>\u001b[1;34m\u001b[0m\n\u001b[1;32m----> 1\u001b[1;33m \u001b[1;32mimport\u001b[0m \u001b[0mseaborn\u001b[0m \u001b[1;32mas\u001b[0m \u001b[0msns\u001b[0m\u001b[1;33m\u001b[0m\u001b[1;33m\u001b[0m\u001b[0m\n\u001b[0m\u001b[0;32m      2\u001b[0m \u001b[0mdata_new\u001b[0m \u001b[1;33m=\u001b[0m \u001b[0mdata\u001b[0m\u001b[1;33m.\u001b[0m\u001b[0mloc\u001b[0m\u001b[1;33m[\u001b[0m\u001b[1;33m:\u001b[0m\u001b[1;33m,\u001b[0m \u001b[1;34m\"Horror\"\u001b[0m\u001b[1;33m:\u001b[0m\u001b[1;34m\"Action\"\u001b[0m\u001b[1;33m]\u001b[0m\u001b[1;33m\u001b[0m\u001b[1;33m\u001b[0m\u001b[0m\n\u001b[0;32m      3\u001b[0m \u001b[0mcorr_data_new\u001b[0m \u001b[1;33m=\u001b[0m \u001b[0mdata_new\u001b[0m\u001b[1;33m.\u001b[0m\u001b[0mcorr\u001b[0m\u001b[1;33m(\u001b[0m\u001b[1;33m)\u001b[0m\u001b[1;33m\u001b[0m\u001b[1;33m\u001b[0m\u001b[0m\n\u001b[0;32m      4\u001b[0m \u001b[0msns\u001b[0m\u001b[1;33m.\u001b[0m\u001b[0mclustermap\u001b[0m\u001b[1;33m(\u001b[0m\u001b[0mcorr_data_new\u001b[0m\u001b[1;33m)\u001b[0m\u001b[1;33m\u001b[0m\u001b[1;33m\u001b[0m\u001b[0m\n",
      "\u001b[1;32mc:\\anaconda3\\envs\\py37\\lib\\site-packages\\seaborn\\__init__.py\u001b[0m in \u001b[0;36m<module>\u001b[1;34m\u001b[0m\n\u001b[0;32m      4\u001b[0m \u001b[1;33m\u001b[0m\u001b[0m\n\u001b[0;32m      5\u001b[0m \u001b[1;31m# Import seaborn objects\u001b[0m\u001b[1;33m\u001b[0m\u001b[1;33m\u001b[0m\u001b[1;33m\u001b[0m\u001b[0m\n\u001b[1;32m----> 6\u001b[1;33m \u001b[1;32mfrom\u001b[0m \u001b[1;33m.\u001b[0m\u001b[0mrcmod\u001b[0m \u001b[1;32mimport\u001b[0m \u001b[1;33m*\u001b[0m\u001b[1;33m\u001b[0m\u001b[1;33m\u001b[0m\u001b[0m\n\u001b[0m\u001b[0;32m      7\u001b[0m \u001b[1;32mfrom\u001b[0m \u001b[1;33m.\u001b[0m\u001b[0mutils\u001b[0m \u001b[1;32mimport\u001b[0m \u001b[1;33m*\u001b[0m\u001b[1;33m\u001b[0m\u001b[1;33m\u001b[0m\u001b[0m\n\u001b[0;32m      8\u001b[0m \u001b[1;32mfrom\u001b[0m \u001b[1;33m.\u001b[0m\u001b[0mpalettes\u001b[0m \u001b[1;32mimport\u001b[0m \u001b[1;33m*\u001b[0m\u001b[1;33m\u001b[0m\u001b[1;33m\u001b[0m\u001b[0m\n",
      "\u001b[1;32mc:\\anaconda3\\envs\\py37\\lib\\site-packages\\seaborn\\rcmod.py\u001b[0m in \u001b[0;36m<module>\u001b[1;34m\u001b[0m\n\u001b[0;32m      3\u001b[0m \u001b[1;32mimport\u001b[0m \u001b[0mfunctools\u001b[0m\u001b[1;33m\u001b[0m\u001b[1;33m\u001b[0m\u001b[0m\n\u001b[0;32m      4\u001b[0m \u001b[1;32mimport\u001b[0m \u001b[0mmatplotlib\u001b[0m \u001b[1;32mas\u001b[0m \u001b[0mmpl\u001b[0m\u001b[1;33m\u001b[0m\u001b[1;33m\u001b[0m\u001b[0m\n\u001b[1;32m----> 5\u001b[1;33m \u001b[1;32mfrom\u001b[0m \u001b[1;33m.\u001b[0m \u001b[1;32mimport\u001b[0m \u001b[0mpalettes\u001b[0m\u001b[1;33m,\u001b[0m \u001b[0m_orig_rc_params\u001b[0m\u001b[1;33m\u001b[0m\u001b[1;33m\u001b[0m\u001b[0m\n\u001b[0m\u001b[0;32m      6\u001b[0m \u001b[1;33m\u001b[0m\u001b[0m\n\u001b[0;32m      7\u001b[0m \u001b[1;33m\u001b[0m\u001b[0m\n",
      "\u001b[1;32mc:\\anaconda3\\envs\\py37\\lib\\site-packages\\seaborn\\palettes.py\u001b[0m in \u001b[0;36m<module>\u001b[1;34m\u001b[0m\n\u001b[0;32m     10\u001b[0m \u001b[1;32mfrom\u001b[0m \u001b[1;33m.\u001b[0m\u001b[0mexternal\u001b[0m\u001b[1;33m.\u001b[0m\u001b[0msix\u001b[0m\u001b[1;33m.\u001b[0m\u001b[0mmoves\u001b[0m \u001b[1;32mimport\u001b[0m \u001b[0mrange\u001b[0m\u001b[1;33m\u001b[0m\u001b[1;33m\u001b[0m\u001b[0m\n\u001b[0;32m     11\u001b[0m \u001b[1;33m\u001b[0m\u001b[0m\n\u001b[1;32m---> 12\u001b[1;33m \u001b[1;32mfrom\u001b[0m \u001b[1;33m.\u001b[0m\u001b[0mutils\u001b[0m \u001b[1;32mimport\u001b[0m \u001b[0mdesaturate\u001b[0m\u001b[1;33m,\u001b[0m \u001b[0mset_hls_values\u001b[0m\u001b[1;33m,\u001b[0m \u001b[0mget_color_cycle\u001b[0m\u001b[1;33m\u001b[0m\u001b[1;33m\u001b[0m\u001b[0m\n\u001b[0m\u001b[0;32m     13\u001b[0m \u001b[1;32mfrom\u001b[0m \u001b[1;33m.\u001b[0m\u001b[0mcolors\u001b[0m \u001b[1;32mimport\u001b[0m \u001b[0mxkcd_rgb\u001b[0m\u001b[1;33m,\u001b[0m \u001b[0mcrayons\u001b[0m\u001b[1;33m\u001b[0m\u001b[1;33m\u001b[0m\u001b[0m\n\u001b[0;32m     14\u001b[0m \u001b[1;33m\u001b[0m\u001b[0m\n",
      "\u001b[1;32mc:\\anaconda3\\envs\\py37\\lib\\site-packages\\seaborn\\utils.py\u001b[0m in \u001b[0;36m<module>\u001b[1;34m\u001b[0m\n\u001b[0;32m      5\u001b[0m \u001b[1;33m\u001b[0m\u001b[0m\n\u001b[0;32m      6\u001b[0m \u001b[1;32mimport\u001b[0m \u001b[0mnumpy\u001b[0m \u001b[1;32mas\u001b[0m \u001b[0mnp\u001b[0m\u001b[1;33m\u001b[0m\u001b[1;33m\u001b[0m\u001b[0m\n\u001b[1;32m----> 7\u001b[1;33m \u001b[1;32mfrom\u001b[0m \u001b[0mscipy\u001b[0m \u001b[1;32mimport\u001b[0m \u001b[0mstats\u001b[0m\u001b[1;33m\u001b[0m\u001b[1;33m\u001b[0m\u001b[0m\n\u001b[0m\u001b[0;32m      8\u001b[0m \u001b[1;32mimport\u001b[0m \u001b[0mpandas\u001b[0m \u001b[1;32mas\u001b[0m \u001b[0mpd\u001b[0m\u001b[1;33m\u001b[0m\u001b[1;33m\u001b[0m\u001b[0m\n\u001b[0;32m      9\u001b[0m \u001b[1;32mimport\u001b[0m \u001b[0mmatplotlib\u001b[0m \u001b[1;32mas\u001b[0m \u001b[0mmpl\u001b[0m\u001b[1;33m\u001b[0m\u001b[1;33m\u001b[0m\u001b[0m\n",
      "\u001b[1;32mc:\\anaconda3\\envs\\py37\\lib\\site-packages\\scipy\\stats\\__init__.py\u001b[0m in \u001b[0;36m<module>\u001b[1;34m\u001b[0m\n\u001b[0;32m    386\u001b[0m \u001b[1;33m\u001b[0m\u001b[0m\n\u001b[0;32m    387\u001b[0m \"\"\"\n\u001b[1;32m--> 388\u001b[1;33m \u001b[1;32mfrom\u001b[0m \u001b[1;33m.\u001b[0m\u001b[0mstats\u001b[0m \u001b[1;32mimport\u001b[0m \u001b[1;33m*\u001b[0m\u001b[1;33m\u001b[0m\u001b[1;33m\u001b[0m\u001b[0m\n\u001b[0m\u001b[0;32m    389\u001b[0m \u001b[1;32mfrom\u001b[0m \u001b[1;33m.\u001b[0m\u001b[0mdistributions\u001b[0m \u001b[1;32mimport\u001b[0m \u001b[1;33m*\u001b[0m\u001b[1;33m\u001b[0m\u001b[1;33m\u001b[0m\u001b[0m\n\u001b[0;32m    390\u001b[0m \u001b[1;32mfrom\u001b[0m \u001b[1;33m.\u001b[0m\u001b[0mmorestats\u001b[0m \u001b[1;32mimport\u001b[0m \u001b[1;33m*\u001b[0m\u001b[1;33m\u001b[0m\u001b[1;33m\u001b[0m\u001b[0m\n",
      "\u001b[1;32mc:\\anaconda3\\envs\\py37\\lib\\site-packages\\scipy\\stats\\stats.py\u001b[0m in \u001b[0;36m<module>\u001b[1;34m\u001b[0m\n\u001b[0;32m    178\u001b[0m \u001b[1;32mimport\u001b[0m \u001b[0mscipy\u001b[0m\u001b[1;33m.\u001b[0m\u001b[0mspecial\u001b[0m \u001b[1;32mas\u001b[0m \u001b[0mspecial\u001b[0m\u001b[1;33m\u001b[0m\u001b[1;33m\u001b[0m\u001b[0m\n\u001b[0;32m    179\u001b[0m \u001b[1;32mfrom\u001b[0m \u001b[0mscipy\u001b[0m \u001b[1;32mimport\u001b[0m \u001b[0mlinalg\u001b[0m\u001b[1;33m\u001b[0m\u001b[1;33m\u001b[0m\u001b[0m\n\u001b[1;32m--> 180\u001b[1;33m \u001b[1;32mfrom\u001b[0m \u001b[1;33m.\u001b[0m \u001b[1;32mimport\u001b[0m \u001b[0mdistributions\u001b[0m\u001b[1;33m\u001b[0m\u001b[1;33m\u001b[0m\u001b[0m\n\u001b[0m\u001b[0;32m    181\u001b[0m \u001b[1;32mfrom\u001b[0m \u001b[1;33m.\u001b[0m \u001b[1;32mimport\u001b[0m \u001b[0mmstats_basic\u001b[0m\u001b[1;33m\u001b[0m\u001b[1;33m\u001b[0m\u001b[0m\n\u001b[0;32m    182\u001b[0m from ._stats_mstats_common import (_find_repeats, linregress, theilslopes,\n",
      "\u001b[1;32mc:\\anaconda3\\envs\\py37\\lib\\site-packages\\scipy\\stats\\distributions.py\u001b[0m in \u001b[0;36m<module>\u001b[1;34m\u001b[0m\n\u001b[0;32m      6\u001b[0m \u001b[1;31m#       instead of `git blame -Lxxx,+x`.\u001b[0m\u001b[1;33m\u001b[0m\u001b[1;33m\u001b[0m\u001b[1;33m\u001b[0m\u001b[0m\n\u001b[0;32m      7\u001b[0m \u001b[1;31m#\u001b[0m\u001b[1;33m\u001b[0m\u001b[1;33m\u001b[0m\u001b[1;33m\u001b[0m\u001b[0m\n\u001b[1;32m----> 8\u001b[1;33m from ._distn_infrastructure import (entropy, rv_discrete, rv_continuous,\n\u001b[0m\u001b[0;32m      9\u001b[0m                                     rv_frozen)\n\u001b[0;32m     10\u001b[0m \u001b[1;33m\u001b[0m\u001b[0m\n",
      "\u001b[1;32mc:\\anaconda3\\envs\\py37\\lib\\site-packages\\scipy\\stats\\_distn_infrastructure.py\u001b[0m in \u001b[0;36m<module>\u001b[1;34m\u001b[0m\n\u001b[0;32m     21\u001b[0m \u001b[1;33m\u001b[0m\u001b[0m\n\u001b[0;32m     22\u001b[0m \u001b[1;31m# for root finding for continuous distribution ppf, and max likelihood estimation\u001b[0m\u001b[1;33m\u001b[0m\u001b[1;33m\u001b[0m\u001b[1;33m\u001b[0m\u001b[0m\n\u001b[1;32m---> 23\u001b[1;33m \u001b[1;32mfrom\u001b[0m \u001b[0mscipy\u001b[0m \u001b[1;32mimport\u001b[0m \u001b[0moptimize\u001b[0m\u001b[1;33m\u001b[0m\u001b[1;33m\u001b[0m\u001b[0m\n\u001b[0m\u001b[0;32m     24\u001b[0m \u001b[1;33m\u001b[0m\u001b[0m\n\u001b[0;32m     25\u001b[0m \u001b[1;31m# for functions of continuous distributions (e.g. moments, entropy, cdf)\u001b[0m\u001b[1;33m\u001b[0m\u001b[1;33m\u001b[0m\u001b[1;33m\u001b[0m\u001b[0m\n",
      "\u001b[1;32mc:\\anaconda3\\envs\\py37\\lib\\site-packages\\scipy\\optimize\\__init__.py\u001b[0m in \u001b[0;36m<module>\u001b[1;34m\u001b[0m\n\u001b[0;32m    386\u001b[0m \u001b[1;33m\u001b[0m\u001b[0m\n\u001b[0;32m    387\u001b[0m \u001b[1;32mfrom\u001b[0m \u001b[1;33m.\u001b[0m\u001b[0moptimize\u001b[0m \u001b[1;32mimport\u001b[0m \u001b[1;33m*\u001b[0m\u001b[1;33m\u001b[0m\u001b[1;33m\u001b[0m\u001b[0m\n\u001b[1;32m--> 388\u001b[1;33m \u001b[1;32mfrom\u001b[0m \u001b[1;33m.\u001b[0m\u001b[0m_minimize\u001b[0m \u001b[1;32mimport\u001b[0m \u001b[1;33m*\u001b[0m\u001b[1;33m\u001b[0m\u001b[1;33m\u001b[0m\u001b[0m\n\u001b[0m\u001b[0;32m    389\u001b[0m \u001b[1;32mfrom\u001b[0m \u001b[1;33m.\u001b[0m\u001b[0m_root\u001b[0m \u001b[1;32mimport\u001b[0m \u001b[1;33m*\u001b[0m\u001b[1;33m\u001b[0m\u001b[1;33m\u001b[0m\u001b[0m\n\u001b[0;32m    390\u001b[0m \u001b[1;32mfrom\u001b[0m \u001b[1;33m.\u001b[0m\u001b[0m_root_scalar\u001b[0m \u001b[1;32mimport\u001b[0m \u001b[1;33m*\u001b[0m\u001b[1;33m\u001b[0m\u001b[1;33m\u001b[0m\u001b[0m\n",
      "\u001b[1;32mc:\\anaconda3\\envs\\py37\\lib\\site-packages\\scipy\\optimize\\_minimize.py\u001b[0m in \u001b[0;36m<module>\u001b[1;34m\u001b[0m\n\u001b[0;32m     25\u001b[0m \u001b[1;32mfrom\u001b[0m \u001b[1;33m.\u001b[0m\u001b[0m_trustregion_krylov\u001b[0m \u001b[1;32mimport\u001b[0m \u001b[0m_minimize_trust_krylov\u001b[0m\u001b[1;33m\u001b[0m\u001b[1;33m\u001b[0m\u001b[0m\n\u001b[0;32m     26\u001b[0m \u001b[1;32mfrom\u001b[0m \u001b[1;33m.\u001b[0m\u001b[0m_trustregion_exact\u001b[0m \u001b[1;32mimport\u001b[0m \u001b[0m_minimize_trustregion_exact\u001b[0m\u001b[1;33m\u001b[0m\u001b[1;33m\u001b[0m\u001b[0m\n\u001b[1;32m---> 27\u001b[1;33m \u001b[1;32mfrom\u001b[0m \u001b[1;33m.\u001b[0m\u001b[0m_trustregion_constr\u001b[0m \u001b[1;32mimport\u001b[0m \u001b[0m_minimize_trustregion_constr\u001b[0m\u001b[1;33m\u001b[0m\u001b[1;33m\u001b[0m\u001b[0m\n\u001b[0m\u001b[0;32m     28\u001b[0m \u001b[1;33m\u001b[0m\u001b[0m\n\u001b[0;32m     29\u001b[0m \u001b[1;31m# constrained minimization\u001b[0m\u001b[1;33m\u001b[0m\u001b[1;33m\u001b[0m\u001b[1;33m\u001b[0m\u001b[0m\n",
      "\u001b[1;32mc:\\anaconda3\\envs\\py37\\lib\\site-packages\\scipy\\optimize\\_trustregion_constr\\__init__.py\u001b[0m in \u001b[0;36m<module>\u001b[1;34m\u001b[0m\n\u001b[0;32m      2\u001b[0m \u001b[1;33m\u001b[0m\u001b[0m\n\u001b[0;32m      3\u001b[0m \u001b[1;33m\u001b[0m\u001b[0m\n\u001b[1;32m----> 4\u001b[1;33m \u001b[1;32mfrom\u001b[0m \u001b[1;33m.\u001b[0m\u001b[0mminimize_trustregion_constr\u001b[0m \u001b[1;32mimport\u001b[0m \u001b[0m_minimize_trustregion_constr\u001b[0m\u001b[1;33m\u001b[0m\u001b[1;33m\u001b[0m\u001b[0m\n\u001b[0m\u001b[0;32m      5\u001b[0m \u001b[1;33m\u001b[0m\u001b[0m\n\u001b[0;32m      6\u001b[0m \u001b[0m__all__\u001b[0m \u001b[1;33m=\u001b[0m \u001b[1;33m[\u001b[0m\u001b[1;34m'_minimize_trustregion_constr'\u001b[0m\u001b[1;33m]\u001b[0m\u001b[1;33m\u001b[0m\u001b[1;33m\u001b[0m\u001b[0m\n",
      "\u001b[1;32mc:\\anaconda3\\envs\\py37\\lib\\site-packages\\scipy\\optimize\\_trustregion_constr\\minimize_trustregion_constr.py\u001b[0m in \u001b[0;36m<module>\u001b[1;34m\u001b[0m\n\u001b[0;32m      3\u001b[0m \u001b[1;32mfrom\u001b[0m \u001b[0mscipy\u001b[0m\u001b[1;33m.\u001b[0m\u001b[0msparse\u001b[0m\u001b[1;33m.\u001b[0m\u001b[0mlinalg\u001b[0m \u001b[1;32mimport\u001b[0m \u001b[0mLinearOperator\u001b[0m\u001b[1;33m\u001b[0m\u001b[1;33m\u001b[0m\u001b[0m\n\u001b[0;32m      4\u001b[0m \u001b[1;32mfrom\u001b[0m \u001b[1;33m.\u001b[0m\u001b[1;33m.\u001b[0m\u001b[0m_differentiable_functions\u001b[0m \u001b[1;32mimport\u001b[0m \u001b[0mVectorFunction\u001b[0m\u001b[1;33m\u001b[0m\u001b[1;33m\u001b[0m\u001b[0m\n\u001b[1;32m----> 5\u001b[1;33m from .._constraints import (\n\u001b[0m\u001b[0;32m      6\u001b[0m     NonlinearConstraint, LinearConstraint, PreparedConstraint, strict_bounds)\n\u001b[0;32m      7\u001b[0m \u001b[1;32mfrom\u001b[0m \u001b[1;33m.\u001b[0m\u001b[1;33m.\u001b[0m\u001b[0m_hessian_update_strategy\u001b[0m \u001b[1;32mimport\u001b[0m \u001b[0mBFGS\u001b[0m\u001b[1;33m\u001b[0m\u001b[1;33m\u001b[0m\u001b[0m\n",
      "\u001b[1;32mc:\\anaconda3\\envs\\py37\\lib\\site-packages\\scipy\\optimize\\_constraints.py\u001b[0m in \u001b[0;36m<module>\u001b[1;34m\u001b[0m\n\u001b[0;32m      6\u001b[0m \u001b[1;32mfrom\u001b[0m \u001b[1;33m.\u001b[0m\u001b[0moptimize\u001b[0m \u001b[1;32mimport\u001b[0m \u001b[0mOptimizeWarning\u001b[0m\u001b[1;33m\u001b[0m\u001b[1;33m\u001b[0m\u001b[0m\n\u001b[0;32m      7\u001b[0m \u001b[1;32mfrom\u001b[0m \u001b[0mwarnings\u001b[0m \u001b[1;32mimport\u001b[0m \u001b[0mwarn\u001b[0m\u001b[1;33m\u001b[0m\u001b[1;33m\u001b[0m\u001b[0m\n\u001b[1;32m----> 8\u001b[1;33m \u001b[1;32mfrom\u001b[0m \u001b[0mnumpy\u001b[0m\u001b[1;33m.\u001b[0m\u001b[0mtesting\u001b[0m \u001b[1;32mimport\u001b[0m \u001b[0msuppress_warnings\u001b[0m\u001b[1;33m\u001b[0m\u001b[1;33m\u001b[0m\u001b[0m\n\u001b[0m\u001b[0;32m      9\u001b[0m \u001b[1;32mfrom\u001b[0m \u001b[0mscipy\u001b[0m\u001b[1;33m.\u001b[0m\u001b[0msparse\u001b[0m \u001b[1;32mimport\u001b[0m \u001b[0missparse\u001b[0m\u001b[1;33m\u001b[0m\u001b[1;33m\u001b[0m\u001b[0m\n\u001b[0;32m     10\u001b[0m \u001b[1;33m\u001b[0m\u001b[0m\n",
      "\u001b[1;32mc:\\anaconda3\\envs\\py37\\lib\\site-packages\\numpy\\testing\\__init__.py\u001b[0m in \u001b[0;36m<module>\u001b[1;34m\u001b[0m\n\u001b[0;32m      8\u001b[0m \u001b[1;32mfrom\u001b[0m \u001b[0munittest\u001b[0m \u001b[1;32mimport\u001b[0m \u001b[0mTestCase\u001b[0m\u001b[1;33m\u001b[0m\u001b[1;33m\u001b[0m\u001b[0m\n\u001b[0;32m      9\u001b[0m \u001b[1;33m\u001b[0m\u001b[0m\n\u001b[1;32m---> 10\u001b[1;33m \u001b[1;32mfrom\u001b[0m \u001b[1;33m.\u001b[0m\u001b[0m_private\u001b[0m\u001b[1;33m.\u001b[0m\u001b[0mutils\u001b[0m \u001b[1;32mimport\u001b[0m \u001b[1;33m*\u001b[0m\u001b[1;33m\u001b[0m\u001b[1;33m\u001b[0m\u001b[0m\n\u001b[0m\u001b[0;32m     11\u001b[0m \u001b[1;32mfrom\u001b[0m \u001b[1;33m.\u001b[0m\u001b[0m_private\u001b[0m \u001b[1;32mimport\u001b[0m \u001b[0mdecorators\u001b[0m \u001b[1;32mas\u001b[0m \u001b[0mdec\u001b[0m\u001b[1;33m\u001b[0m\u001b[1;33m\u001b[0m\u001b[0m\n\u001b[0;32m     12\u001b[0m from ._private.nosetester import (\n",
      "\u001b[1;32mc:\\anaconda3\\envs\\py37\\lib\\site-packages\\numpy\\testing\\_private\\utils.py\u001b[0m in \u001b[0;36m<module>\u001b[1;34m\u001b[0m\n\u001b[0;32m     50\u001b[0m \u001b[0mIS_PYPY\u001b[0m \u001b[1;33m=\u001b[0m \u001b[0mplatform\u001b[0m\u001b[1;33m.\u001b[0m\u001b[0mpython_implementation\u001b[0m\u001b[1;33m(\u001b[0m\u001b[1;33m)\u001b[0m \u001b[1;33m==\u001b[0m \u001b[1;34m'PyPy'\u001b[0m\u001b[1;33m\u001b[0m\u001b[1;33m\u001b[0m\u001b[0m\n\u001b[0;32m     51\u001b[0m \u001b[0mHAS_REFCOUNT\u001b[0m \u001b[1;33m=\u001b[0m \u001b[0mgetattr\u001b[0m\u001b[1;33m(\u001b[0m\u001b[0msys\u001b[0m\u001b[1;33m,\u001b[0m \u001b[1;34m'getrefcount'\u001b[0m\u001b[1;33m,\u001b[0m \u001b[1;32mNone\u001b[0m\u001b[1;33m)\u001b[0m \u001b[1;32mis\u001b[0m \u001b[1;32mnot\u001b[0m \u001b[1;32mNone\u001b[0m\u001b[1;33m\u001b[0m\u001b[1;33m\u001b[0m\u001b[0m\n\u001b[1;32m---> 52\u001b[1;33m \u001b[0mHAS_LAPACK64\u001b[0m \u001b[1;33m=\u001b[0m \u001b[0mnumpy\u001b[0m\u001b[1;33m.\u001b[0m\u001b[0mlinalg\u001b[0m\u001b[1;33m.\u001b[0m\u001b[0mlapack_lite\u001b[0m\u001b[1;33m.\u001b[0m\u001b[0m_ilp64\u001b[0m\u001b[1;33m\u001b[0m\u001b[1;33m\u001b[0m\u001b[0m\n\u001b[0m\u001b[0;32m     53\u001b[0m \u001b[1;33m\u001b[0m\u001b[0m\n\u001b[0;32m     54\u001b[0m \u001b[1;33m\u001b[0m\u001b[0m\n",
      "\u001b[1;31mAttributeError\u001b[0m: module 'numpy.linalg.lapack_lite' has no attribute '_ilp64'"
     ]
    }
   ],
   "source": [
    "import seaborn as sns\n",
    "data_new = data.loc[:, \"Horror\":\"Action\"]\n",
    "corr_data_new = data_new.corr()\n",
    "sns.clustermap(corr_data_new)"
   ]
  },
  {
   "cell_type": "code",
   "execution_count": null,
   "metadata": {},
   "outputs": [],
   "source": [
    "import numpy as np"
   ]
  },
  {
   "cell_type": "code",
   "execution_count": 2,
   "metadata": {},
   "outputs": [],
   "source": [
    "import seaborn as sns\n",
    "import pandas as pd\n",
    "%matplotlib inline\n",
    "import numpy as np"
   ]
  },
  {
   "cell_type": "code",
   "execution_count": 3,
   "metadata": {},
   "outputs": [
    {
     "data": {
      "text/plain": [
       "<seaborn.matrix.ClusterGrid at 0x2c739042908>"
      ]
     },
     "execution_count": 3,
     "metadata": {},
     "output_type": "execute_result"
    },
    {
     "data": {
      "image/png": "[encoded data removed]",
      "text/plain": [
       "<Figure size 720x720 with 4 Axes>"
      ]
     },
     "metadata": {
      "needs_background": "light"
     },
     "output_type": "display_data"
    }
   ],
   "source": [
    "data = pd.read_csv(\"survey.csv\")\n",
    "data_new = data.loc[:,\"Horror\":\"Action\"]\n",
    "sns.clustermap(data_new.corr())\n",
    "#그래푸 묶여있는걸로 연관성 판단 가능"
   ]
  },
  {
   "cell_type": "code",
   "execution_count": 5,
   "metadata": {},
   "outputs": [
    {
     "name": "stdout",
     "output_type": "stream",
     "text": [
      "0.286235751573161\n",
      "0.6792699069677399\n",
      "-0.0838952600536105\n"
     ]
    }
   ],
   "source": [
    "data_corr = data_new.corr()\n",
    "def checkCorre(dataframe, colName):\n",
    "    for row in dataframe.index:\n",
    "        if row == colName:\n",
    "            print(dataframe.loc[row])\n",
    "            \n",
    "checkCorre(data_corr[\"Romantic\"], \"Comedy\")\n",
    "checkCorre(data_corr[\"Fantasy/Fairy tales\"], \"Animated\")\n",
    "checkCorre(data_corr[\"Documentary\"], \"Romantic\")"
   ]
  },
  {
   "cell_type": "code",
   "execution_count": 6,
   "metadata": {},
   "outputs": [],
   "source": [
    "data = pd.read_csv(\"titanic.csv\")"
   ]
  },
  {
   "cell_type": "code",
   "execution_count": 7,
   "metadata": {},
   "outputs": [
    {
     "data": {
      "text/html": [
       "<div>\n",
       "<style scoped>\n",
       "    .dataframe tbody tr th:only-of-type {\n",
       "        vertical-align: middle;\n",
       "    }\n",
       "\n",
       "    .dataframe tbody tr th {\n",
       "        vertical-align: top;\n",
       "    }\n",
       "\n",
       "    .dataframe thead th {\n",
       "        text-align: right;\n",
       "    }\n",
       "</style>\n",
       "<table border=\"1\" class=\"dataframe\">\n",
       "  <thead>\n",
       "    <tr style=\"text-align: right;\">\n",
       "      <th></th>\n",
       "      <th>PassengerId</th>\n",
       "      <th>Survived</th>\n",
       "      <th>Pclass</th>\n",
       "      <th>Name</th>\n",
       "      <th>Sex</th>\n",
       "      <th>Age</th>\n",
       "      <th>SibSp</th>\n",
       "      <th>Parch</th>\n",
       "      <th>Ticket</th>\n",
       "      <th>Fare</th>\n",
       "      <th>Cabin</th>\n",
       "      <th>Embarked</th>\n",
       "    </tr>\n",
       "  </thead>\n",
       "  <tbody>\n",
       "    <tr>\n",
       "      <th>0</th>\n",
       "      <td>1</td>\n",
       "      <td>0</td>\n",
       "      <td>3</td>\n",
       "      <td>Braund, Mr. Owen Harris</td>\n",
       "      <td>male</td>\n",
       "      <td>22.0</td>\n",
       "      <td>1</td>\n",
       "      <td>0</td>\n",
       "      <td>A/5 21171</td>\n",
       "      <td>7.2500</td>\n",
       "      <td>NaN</td>\n",
       "      <td>S</td>\n",
       "    </tr>\n",
       "    <tr>\n",
       "      <th>1</th>\n",
       "      <td>2</td>\n",
       "      <td>1</td>\n",
       "      <td>1</td>\n",
       "      <td>Cumings, Mrs. John Bradley (Florence Briggs Th...</td>\n",
       "      <td>female</td>\n",
       "      <td>38.0</td>\n",
       "      <td>1</td>\n",
       "      <td>0</td>\n",
       "      <td>PC 17599</td>\n",
       "      <td>71.2833</td>\n",
       "      <td>C85</td>\n",
       "      <td>C</td>\n",
       "    </tr>\n",
       "    <tr>\n",
       "      <th>2</th>\n",
       "      <td>3</td>\n",
       "      <td>1</td>\n",
       "      <td>3</td>\n",
       "      <td>Heikkinen, Miss. Laina</td>\n",
       "      <td>female</td>\n",
       "      <td>26.0</td>\n",
       "      <td>0</td>\n",
       "      <td>0</td>\n",
       "      <td>STON/O2. 3101282</td>\n",
       "      <td>7.9250</td>\n",
       "      <td>NaN</td>\n",
       "      <td>S</td>\n",
       "    </tr>\n",
       "    <tr>\n",
       "      <th>3</th>\n",
       "      <td>4</td>\n",
       "      <td>1</td>\n",
       "      <td>1</td>\n",
       "      <td>Futrelle, Mrs. Jacques Heath (Lily May Peel)</td>\n",
       "      <td>female</td>\n",
       "      <td>35.0</td>\n",
       "      <td>1</td>\n",
       "      <td>0</td>\n",
       "      <td>113803</td>\n",
       "      <td>53.1000</td>\n",
       "      <td>C123</td>\n",
       "      <td>S</td>\n",
       "    </tr>\n",
       "    <tr>\n",
       "      <th>4</th>\n",
       "      <td>5</td>\n",
       "      <td>0</td>\n",
       "      <td>3</td>\n",
       "      <td>Allen, Mr. William Henry</td>\n",
       "      <td>male</td>\n",
       "      <td>35.0</td>\n",
       "      <td>0</td>\n",
       "      <td>0</td>\n",
       "      <td>373450</td>\n",
       "      <td>8.0500</td>\n",
       "      <td>NaN</td>\n",
       "      <td>S</td>\n",
       "    </tr>\n",
       "  </tbody>\n",
       "</table>\n",
       "</div>"
      ],
      "text/plain": [
       "   PassengerId  Survived  Pclass  \\\n",
       "0            1         0       3   \n",
       "1            2         1       1   \n",
       "2            3         1       3   \n",
       "3            4         1       1   \n",
       "4            5         0       3   \n",
       "\n",
       "                                                Name     Sex   Age  SibSp  \\\n",
       "0                            Braund, Mr. Owen Harris    male  22.0      1   \n",
       "1  Cumings, Mrs. John Bradley (Florence Briggs Th...  female  38.0      1   \n",
       "2                             Heikkinen, Miss. Laina  female  26.0      0   \n",
       "3       Futrelle, Mrs. Jacques Heath (Lily May Peel)  female  35.0      1   \n",
       "4                           Allen, Mr. William Henry    male  35.0      0   \n",
       "\n",
       "   Parch            Ticket     Fare Cabin Embarked  \n",
       "0      0         A/5 21171   7.2500   NaN        S  \n",
       "1      0          PC 17599  71.2833   C85        C  \n",
       "2      0  STON/O2. 3101282   7.9250   NaN        S  \n",
       "3      0            113803  53.1000  C123        S  \n",
       "4      0            373450   8.0500   NaN        S  "
      ]
     },
     "execution_count": 7,
     "metadata": {},
     "output_type": "execute_result"
    }
   ],
   "source": [
    "data.head()"
   ]
  },
  {
   "cell_type": "code",
   "execution_count": 9,
   "metadata": {},
   "outputs": [
    {
     "data": {
      "text/plain": [
       "<AxesSubplot:>"
      ]
     },
     "execution_count": 9,
     "metadata": {},
     "output_type": "execute_result"
    },
    {
     "data": {
      "image/png": "[encoded data removed]",
      "text/plain": [
       "<Figure size 432x288 with 1 Axes>"
      ]
     },
     "metadata": {
      "needs_background": "light"
     },
     "output_type": "display_data"
    }
   ],
   "source": [
    "#타이타닉의 승객은 30대와 40대가 많다\n",
    "data[\"Age\"].hist()"
   ]
  },
  {
   "cell_type": "code",
   "execution_count": 11,
   "metadata": {},
   "outputs": [
    {
     "data": {
      "text/plain": [
       "<AxesSubplot:ylabel='Frequency'>"
      ]
     },
     "execution_count": 11,
     "metadata": {},
     "output_type": "execute_result"
    },
    {
     "data": {
      "image/png": "[encoded data removed]",
      "text/plain": [
       "<Figure size 432x288 with 1 Axes>"
      ]
     },
     "metadata": {
      "needs_background": "light"
     },
     "output_type": "display_data"
    }
   ],
   "source": [
    "data[\"Age\"].plot(kind=\"hist\", y = \"Age\", bins =10)"
   ]
  },
  {
   "cell_type": "code",
   "execution_count": 12,
   "metadata": {},
   "outputs": [
    {
     "data": {
      "text/plain": [
       "<AxesSubplot:xlabel='Age', ylabel='Fare'>"
      ]
     },
     "execution_count": 12,
     "metadata": {},
     "output_type": "execute_result"
    },
    {
     "data": {
      "image/png": "[encoded data removed]",
      "text/plain": [
       "<Figure size 432x288 with 1 Axes>"
      ]
     },
     "metadata": {
      "needs_background": "light"
     },
     "output_type": "display_data"
    }
   ],
   "source": [
    "data.plot(kind =\"scatter\", x= \"Age\", y= \"Fare\")"
   ]
  },
  {
   "cell_type": "code",
   "execution_count": 13,
   "metadata": {},
   "outputs": [
    {
     "data": {
      "text/plain": [
       "0    549\n",
       "1    342\n",
       "Name: Survived, dtype: int64"
      ]
     },
     "execution_count": 13,
     "metadata": {},
     "output_type": "execute_result"
    }
   ],
   "source": [
    "data[\"Survived\"].value_counts()"
   ]
  },
  {
   "cell_type": "code",
   "execution_count": 15,
   "metadata": {},
   "outputs": [
    {
     "data": {
      "text/plain": [
       "3    491\n",
       "1    216\n",
       "2    184\n",
       "Name: Pclass, dtype: int64"
      ]
     },
     "execution_count": 15,
     "metadata": {},
     "output_type": "execute_result"
    }
   ],
   "source": [
    "data[\"Pclass\"].value_counts()"
   ]
  },
  {
   "cell_type": "code",
   "execution_count": 18,
   "metadata": {},
   "outputs": [
    {
     "data": {
      "text/plain": [
       "<AxesSubplot:xlabel='Pclass', ylabel='Survived'>"
      ]
     },
     "execution_count": 18,
     "metadata": {},
     "output_type": "execute_result"
    },
    {
     "data": {
      "image/png": "[encoded data removed]",
      "text/plain": [
       "<Figure size 432x288 with 1 Axes>"
      ]
     },
     "metadata": {
      "needs_background": "light"
     },
     "output_type": "display_data"
    }
   ],
   "source": [
    "data.plot(kind= \"scatter\" , x = \"Pclass\", y = \"Survived\")"
   ]
  },
  {
   "cell_type": "code",
   "execution_count": 19,
   "metadata": {},
   "outputs": [
    {
     "name": "stderr",
     "output_type": "stream",
     "text": [
      "c:\\anaconda3\\envs\\py37\\lib\\site-packages\\seaborn\\_decorators.py:43: FutureWarning: Pass the following variable as a keyword arg: y. From version 0.12, the only valid positional argument will be `data`, and passing other arguments without an explicit keyword will result in an error or misinterpretation.\n",
      "  FutureWarning\n"
     ]
    },
    {
     "data": {
      "text/plain": [
       "<AxesSubplot:xlabel='Pclass', ylabel='Survived'>"
      ]
     },
     "execution_count": 19,
     "metadata": {},
     "output_type": "execute_result"
    },
    {
     "data": {
      "image/png": "[encoded data removed]",
      "text/plain": [
       "<Figure size 432x288 with 1 Axes>"
      ]
     },
     "metadata": {
      "needs_background": "light"
     },
     "output_type": "display_data"
    }
   ],
   "source": [
    "sns.kdeplot(data[\"Pclass\"], data[\"Survived\"])"
   ]
  },
  {
   "cell_type": "code",
   "execution_count": 21,
   "metadata": {},
   "outputs": [
    {
     "data": {
      "text/plain": [
       "<AxesSubplot:xlabel='Survived', ylabel='Age'>"
      ]
     },
     "execution_count": 21,
     "metadata": {},
     "output_type": "execute_result"
    },
    {
     "data": {
      "image/png": "[encoded data removed]",
      "text/plain": [
       "<Figure size 432x288 with 1 Axes>"
      ]
     },
     "metadata": {
      "needs_background": "light"
     },
     "output_type": "display_data"
    }
   ],
   "source": [
    "sns.stripplot(data= data, x=\"Survived\", y = \"Age\")"
   ]
  },
  {
   "cell_type": "code",
   "execution_count": 22,
   "metadata": {},
   "outputs": [
    {
     "data": {
      "text/plain": [
       "<AxesSubplot:xlabel='Survived', ylabel='Age'>"
      ]
     },
     "execution_count": 22,
     "metadata": {},
     "output_type": "execute_result"
    },
    {
     "data": {
      "image/png": "[encoded data removed]",
      "text/plain": [
       "<Figure size 432x288 with 1 Axes>"
      ]
     },
     "metadata": {
      "needs_background": "light"
     },
     "output_type": "display_data"
    }
   ],
   "source": [
    "sns.violinplot(data=data, x= \"Survived\", y =\"Age\")"
   ]
  },
  {
   "cell_type": "code",
   "execution_count": 26,
   "metadata": {},
   "outputs": [
    {
     "data": {
      "text/plain": [
       "<AxesSubplot:xlabel='Survived', ylabel='Age'>"
      ]
     },
     "execution_count": 26,
     "metadata": {},
     "output_type": "execute_result"
    },
    {
     "data": {
      "image/png": "[encoded data removed]",
      "text/plain": [
       "<Figure size 432x288 with 1 Axes>"
      ]
     },
     "metadata": {
      "needs_background": "light"
     },
     "output_type": "display_data"
    }
   ],
   "source": [
    "sns.stripplot(data=data, x=\"Survived\" , y = \"Age\", hue = \"Sex\")"
   ]
  },
  {
   "cell_type": "markdown",
   "metadata": {},
   "source": [
    "# 새로운 인사이트 발견하기"
   ]
  },
  {
   "cell_type": "code",
   "execution_count": 27,
   "metadata": {},
   "outputs": [],
   "source": [
    "data = pd.read_csv(\"broadcast.csv\")"
   ]
  },
  {
   "cell_type": "code",
   "execution_count": 30,
   "metadata": {},
   "outputs": [],
   "source": [
    "data[\"Total\"] = data.sum(axis=\"columns\")"
   ]
  },
  {
   "cell_type": "code",
   "execution_count": 31,
   "metadata": {},
   "outputs": [
    {
     "data": {
      "text/plain": [
       "<AxesSubplot:>"
      ]
     },
     "execution_count": 31,
     "metadata": {},
     "output_type": "execute_result"
    },
    {
     "data": {
      "image/png": "[encoded data removed]",
      "text/plain": [
       "<Figure size 432x288 with 1 Axes>"
      ]
     },
     "metadata": {
      "needs_background": "light"
     },
     "output_type": "display_data"
    }
   ],
   "source": [
    "data.plot(y=\"Total\")"
   ]
  },
  {
   "cell_type": "code",
   "execution_count": 32,
   "metadata": {},
   "outputs": [],
   "source": [
    "data[\"Group1\"]= data.loc[:, \"KBS\":\"SBS\"].sum(axis= \"columns\")\n",
    "data[\"Group2\"]= data.loc[:, \"TV CHOSUN\":\"MBN\"].sum(axis= \"columns\")"
   ]
  },
  {
   "cell_type": "code",
   "execution_count": 33,
   "metadata": {},
   "outputs": [
    {
     "data": {
      "text/plain": [
       "<AxesSubplot:>"
      ]
     },
     "execution_count": 33,
     "metadata": {},
     "output_type": "execute_result"
    },
    {
     "data": {
      "image/png": "[encoded data removed]",
      "text/plain": [
       "<Figure size 432x288 with 1 Axes>"
      ]
     },
     "metadata": {
      "needs_background": "light"
     },
     "output_type": "display_data"
    }
   ],
   "source": [
    "data.plot(y= [\"Group1\", \"Group2\"])"
   ]
  },
  {
   "cell_type": "code",
   "execution_count": 36,
   "metadata": {},
   "outputs": [],
   "source": [
    "data = pd.read_csv(\"albums.csv\", encoding=\"latin1\")"
   ]
  },
  {
   "cell_type": "code",
   "execution_count": 38,
   "metadata": {},
   "outputs": [
    {
     "data": {
      "text/html": [
       "<div>\n",
       "<style scoped>\n",
       "    .dataframe tbody tr th:only-of-type {\n",
       "        vertical-align: middle;\n",
       "    }\n",
       "\n",
       "    .dataframe tbody tr th {\n",
       "        vertical-align: top;\n",
       "    }\n",
       "\n",
       "    .dataframe thead th {\n",
       "        text-align: right;\n",
       "    }\n",
       "</style>\n",
       "<table border=\"1\" class=\"dataframe\">\n",
       "  <thead>\n",
       "    <tr style=\"text-align: right;\">\n",
       "      <th></th>\n",
       "      <th>Number</th>\n",
       "      <th>Year</th>\n",
       "      <th>Album</th>\n",
       "      <th>Artist</th>\n",
       "      <th>Genre</th>\n",
       "      <th>Subgenre</th>\n",
       "    </tr>\n",
       "  </thead>\n",
       "  <tbody>\n",
       "    <tr>\n",
       "      <th>0</th>\n",
       "      <td>1</td>\n",
       "      <td>1967</td>\n",
       "      <td>Sgt. Pepper's Lonely Hearts Club Band</td>\n",
       "      <td>The Beatles</td>\n",
       "      <td>Rock</td>\n",
       "      <td>Rock &amp; Roll, Psychedelic Rock</td>\n",
       "    </tr>\n",
       "    <tr>\n",
       "      <th>1</th>\n",
       "      <td>2</td>\n",
       "      <td>1966</td>\n",
       "      <td>Pet Sounds</td>\n",
       "      <td>The Beach Boys</td>\n",
       "      <td>Rock</td>\n",
       "      <td>Pop Rock, Psychedelic Rock</td>\n",
       "    </tr>\n",
       "    <tr>\n",
       "      <th>2</th>\n",
       "      <td>3</td>\n",
       "      <td>1966</td>\n",
       "      <td>Revolver</td>\n",
       "      <td>The Beatles</td>\n",
       "      <td>Rock</td>\n",
       "      <td>Psychedelic Rock, Pop Rock</td>\n",
       "    </tr>\n",
       "    <tr>\n",
       "      <th>3</th>\n",
       "      <td>4</td>\n",
       "      <td>1965</td>\n",
       "      <td>Highway 61 Revisited</td>\n",
       "      <td>Bob Dylan</td>\n",
       "      <td>Rock</td>\n",
       "      <td>Folk Rock, Blues Rock</td>\n",
       "    </tr>\n",
       "    <tr>\n",
       "      <th>4</th>\n",
       "      <td>5</td>\n",
       "      <td>1965</td>\n",
       "      <td>Rubber Soul</td>\n",
       "      <td>The Beatles</td>\n",
       "      <td>Rock, Pop</td>\n",
       "      <td>Pop Rock</td>\n",
       "    </tr>\n",
       "    <tr>\n",
       "      <th>5</th>\n",
       "      <td>6</td>\n",
       "      <td>1971</td>\n",
       "      <td>What's Going On</td>\n",
       "      <td>Marvin Gaye</td>\n",
       "      <td>Funk / Soul</td>\n",
       "      <td>Soul</td>\n",
       "    </tr>\n",
       "    <tr>\n",
       "      <th>6</th>\n",
       "      <td>7</td>\n",
       "      <td>1972</td>\n",
       "      <td>Exile on Main St.</td>\n",
       "      <td>The Rolling Stones</td>\n",
       "      <td>Rock</td>\n",
       "      <td>Blues Rock, Rock &amp; Roll, Classic Rock</td>\n",
       "    </tr>\n",
       "    <tr>\n",
       "      <th>7</th>\n",
       "      <td>8</td>\n",
       "      <td>1979</td>\n",
       "      <td>London Calling</td>\n",
       "      <td>The Clash</td>\n",
       "      <td>Rock</td>\n",
       "      <td>Punk, New Wave</td>\n",
       "    </tr>\n",
       "    <tr>\n",
       "      <th>8</th>\n",
       "      <td>9</td>\n",
       "      <td>1966</td>\n",
       "      <td>Blonde on Blonde</td>\n",
       "      <td>Bob Dylan</td>\n",
       "      <td>Rock, Blues</td>\n",
       "      <td>Folk Rock, Rhythm &amp; Blues</td>\n",
       "    </tr>\n",
       "    <tr>\n",
       "      <th>9</th>\n",
       "      <td>10</td>\n",
       "      <td>1968</td>\n",
       "      <td>The Beatles (\"The White Album\")</td>\n",
       "      <td>The Beatles</td>\n",
       "      <td>Rock</td>\n",
       "      <td>Rock &amp; Roll, Pop Rock, Psychedelic Rock, Exper...</td>\n",
       "    </tr>\n",
       "    <tr>\n",
       "      <th>10</th>\n",
       "      <td>11</td>\n",
       "      <td>1976</td>\n",
       "      <td>The Sun Sessions</td>\n",
       "      <td>Elvis Presley</td>\n",
       "      <td>Rock</td>\n",
       "      <td>Rock &amp; Roll</td>\n",
       "    </tr>\n",
       "    <tr>\n",
       "      <th>11</th>\n",
       "      <td>12</td>\n",
       "      <td>1959</td>\n",
       "      <td>Kind of Blue</td>\n",
       "      <td>Miles Davis</td>\n",
       "      <td>Jazz</td>\n",
       "      <td>Modal</td>\n",
       "    </tr>\n",
       "    <tr>\n",
       "      <th>12</th>\n",
       "      <td>13</td>\n",
       "      <td>1967</td>\n",
       "      <td>The Velvet Underground &amp; Nico</td>\n",
       "      <td>The Velvet Underground</td>\n",
       "      <td>Rock</td>\n",
       "      <td>Garage Rock, Art Rock, Experimental</td>\n",
       "    </tr>\n",
       "    <tr>\n",
       "      <th>13</th>\n",
       "      <td>14</td>\n",
       "      <td>1969</td>\n",
       "      <td>Abbey Road</td>\n",
       "      <td>The Beatles</td>\n",
       "      <td>Rock</td>\n",
       "      <td>Psychedelic Rock, Classic Rock, Pop Rock</td>\n",
       "    </tr>\n",
       "    <tr>\n",
       "      <th>14</th>\n",
       "      <td>15</td>\n",
       "      <td>1967</td>\n",
       "      <td>Are You Experienced</td>\n",
       "      <td>The Jimi Hendrix Experience</td>\n",
       "      <td>Rock, Blues</td>\n",
       "      <td>Blues Rock, Psychedelic Rock</td>\n",
       "    </tr>\n",
       "    <tr>\n",
       "      <th>15</th>\n",
       "      <td>16</td>\n",
       "      <td>1975</td>\n",
       "      <td>Blood on the Tracks</td>\n",
       "      <td>Bob Dylan</td>\n",
       "      <td>Rock</td>\n",
       "      <td>Folk Rock, Acoustic, Ballad</td>\n",
       "    </tr>\n",
       "    <tr>\n",
       "      <th>16</th>\n",
       "      <td>17</td>\n",
       "      <td>1991</td>\n",
       "      <td>Nevermind</td>\n",
       "      <td>Nirvana</td>\n",
       "      <td>Rock</td>\n",
       "      <td>Alternative Rock, Grunge</td>\n",
       "    </tr>\n",
       "    <tr>\n",
       "      <th>17</th>\n",
       "      <td>18</td>\n",
       "      <td>1975</td>\n",
       "      <td>Born to Run</td>\n",
       "      <td>Bruce Springsteen</td>\n",
       "      <td>Rock</td>\n",
       "      <td>Pop Rock</td>\n",
       "    </tr>\n",
       "    <tr>\n",
       "      <th>18</th>\n",
       "      <td>19</td>\n",
       "      <td>1968</td>\n",
       "      <td>Astral Weeks</td>\n",
       "      <td>Van Morrison</td>\n",
       "      <td>Jazz, Rock, Blues, Folk, World, &amp; Country</td>\n",
       "      <td>Acoustic, Classic Rock, Free Improvisation</td>\n",
       "    </tr>\n",
       "    <tr>\n",
       "      <th>19</th>\n",
       "      <td>20</td>\n",
       "      <td>1982</td>\n",
       "      <td>Thriller</td>\n",
       "      <td>Michael Jackson</td>\n",
       "      <td>Funk / Soul, Pop</td>\n",
       "      <td>Disco</td>\n",
       "    </tr>\n",
       "  </tbody>\n",
       "</table>\n",
       "</div>"
      ],
      "text/plain": [
       "    Number  Year                                  Album  \\\n",
       "0        1  1967  Sgt. Pepper's Lonely Hearts Club Band   \n",
       "1        2  1966                             Pet Sounds   \n",
       "2        3  1966                               Revolver   \n",
       "3        4  1965                   Highway 61 Revisited   \n",
       "4        5  1965                            Rubber Soul   \n",
       "5        6  1971                        What's Going On   \n",
       "6        7  1972                      Exile on Main St.   \n",
       "7        8  1979                         London Calling   \n",
       "8        9  1966                       Blonde on Blonde   \n",
       "9       10  1968        The Beatles (\"The White Album\")   \n",
       "10      11  1976                       The Sun Sessions   \n",
       "11      12  1959                           Kind of Blue   \n",
       "12      13  1967          The Velvet Underground & Nico   \n",
       "13      14  1969                             Abbey Road   \n",
       "14      15  1967                    Are You Experienced   \n",
       "15      16  1975                    Blood on the Tracks   \n",
       "16      17  1991                              Nevermind   \n",
       "17      18  1975                            Born to Run   \n",
       "18      19  1968                           Astral Weeks   \n",
       "19      20  1982                               Thriller   \n",
       "\n",
       "                         Artist                                      Genre  \\\n",
       "0                   The Beatles                                       Rock   \n",
       "1                The Beach Boys                                       Rock   \n",
       "2                   The Beatles                                       Rock   \n",
       "3                     Bob Dylan                                       Rock   \n",
       "4                   The Beatles                                  Rock, Pop   \n",
       "5                   Marvin Gaye                                Funk / Soul   \n",
       "6            The Rolling Stones                                       Rock   \n",
       "7                     The Clash                                       Rock   \n",
       "8                     Bob Dylan                                Rock, Blues   \n",
       "9                   The Beatles                                       Rock   \n",
       "10                Elvis Presley                                       Rock   \n",
       "11                  Miles Davis                                       Jazz   \n",
       "12       The Velvet Underground                                       Rock   \n",
       "13                  The Beatles                                       Rock   \n",
       "14  The Jimi Hendrix Experience                                Rock, Blues   \n",
       "15                    Bob Dylan                                       Rock   \n",
       "16                      Nirvana                                       Rock   \n",
       "17            Bruce Springsteen                                       Rock   \n",
       "18                 Van Morrison  Jazz, Rock, Blues, Folk, World, & Country   \n",
       "19              Michael Jackson                           Funk / Soul, Pop   \n",
       "\n",
       "                                             Subgenre  \n",
       "0                       Rock & Roll, Psychedelic Rock  \n",
       "1                          Pop Rock, Psychedelic Rock  \n",
       "2                          Psychedelic Rock, Pop Rock  \n",
       "3                               Folk Rock, Blues Rock  \n",
       "4                                            Pop Rock  \n",
       "5                                                Soul  \n",
       "6               Blues Rock, Rock & Roll, Classic Rock  \n",
       "7                                      Punk, New Wave  \n",
       "8                           Folk Rock, Rhythm & Blues  \n",
       "9   Rock & Roll, Pop Rock, Psychedelic Rock, Exper...  \n",
       "10                                        Rock & Roll  \n",
       "11                                              Modal  \n",
       "12                Garage Rock, Art Rock, Experimental  \n",
       "13           Psychedelic Rock, Classic Rock, Pop Rock  \n",
       "14                       Blues Rock, Psychedelic Rock  \n",
       "15                        Folk Rock, Acoustic, Ballad  \n",
       "16                           Alternative Rock, Grunge  \n",
       "17                                           Pop Rock  \n",
       "18         Acoustic, Classic Rock, Free Improvisation  \n",
       "19                                              Disco  "
      ]
     },
     "execution_count": 38,
     "metadata": {},
     "output_type": "execute_result"
    }
   ],
   "source": [
    "data.head(20)"
   ]
  },
  {
   "cell_type": "code",
   "execution_count": 39,
   "metadata": {},
   "outputs": [
    {
     "data": {
      "text/plain": [
       "array(['Rock', 'Rock, Pop', 'Funk / Soul', 'Rock, Blues', 'Jazz',\n",
       "       'Jazz, Rock, Blues, Folk, World, & Country', 'Funk / Soul, Pop',\n",
       "       'Blues', 'Pop', 'Rock, Folk, World, & Country',\n",
       "       'Folk, World, & Country', 'Classical, Stage & Screen', 'Reggae',\n",
       "       'Hip Hop', 'Jazz, Funk / Soul', 'Rock, Funk / Soul, Pop',\n",
       "       'Electronic, Rock',\n",
       "       'Jazz, Rock, Funk / Soul, Folk, World, & Country',\n",
       "       'Jazz, Rock, Funk / Soul, Pop, Folk, World, & Country',\n",
       "       'Funk / Soul, Stage & Screen',\n",
       "       'Electronic, Rock, Funk / Soul, Stage & Screen',\n",
       "       'Rock, Funk / Soul', 'Rock, Reggae', 'Jazz, Pop',\n",
       "       'Funk / Soul, Folk, World, & Country', 'Latin, Funk / Soul',\n",
       "       'Funk / Soul, Blues',\n",
       "       'Reggae,ï¿½Pop,ï¿½Folk, World, & Country,ï¿½Stage & Screen',\n",
       "       'Electronic,ï¿½Stage & Screen', 'Jazz, Rock, Funk / Soul, Blues',\n",
       "       'Jazz, Rock', 'Rock, Latin, Funk / Soul', 'Electronic, Rock, Pop',\n",
       "       'Hip Hop, Rock, Funk / Soul', 'Electronic, Pop',\n",
       "       'Rock, Blues, Pop', 'Electronic, Rock, Funk / Soul, Pop',\n",
       "       'Rock, Funk / Soul, Folk, World, & Country', 'Rock,ï¿½Blues',\n",
       "       'Rock, Pop, Folk, World, & Country', 'Rock, Latin',\n",
       "       'Rock, Stage & Screen', 'Rock, Blues, Folk, World, & Country',\n",
       "       'Electronic', 'Electronic, Funk / Soul, Pop',\n",
       "       'Pop, Folk, World, & Country', 'Electronic, Hip Hop, Pop',\n",
       "       'Blues, Folk, World, & Country',\n",
       "       'Electronic, Hip Hop, Funk / Soul, Pop',\n",
       "       'Rock, Funk / Soul, Blues, Pop, Folk, World, & Country',\n",
       "       'Jazz, Pop, Folk, World, & Country', 'Jazz, Rock, Pop',\n",
       "       'Hip Hop, Funk / Soul', 'Hip Hop, Rock',\n",
       "       'Electronic, Hip Hop, Funk / Soul',\n",
       "       'Funk / Soul,ï¿½Folk, World, & Country',\n",
       "       'Electronic, Hip Hop, Reggae, Pop', 'Electronic, Reggae',\n",
       "       'Electronic, Funk / Soul', 'Rock, Funk / Soul, Blues',\n",
       "       'Rock,ï¿½Pop', 'Electronic, Rock, Funk / Soul, Blues, Pop',\n",
       "       'Rock, Reggae, Latin'], dtype=object)"
      ]
     },
     "execution_count": 39,
     "metadata": {},
     "output_type": "execute_result"
    }
   ],
   "source": [
    "data[\"Genre\"].unique()"
   ]
  },
  {
   "cell_type": "code",
   "execution_count": 41,
   "metadata": {},
   "outputs": [
    {
     "data": {
      "text/html": [
       "<div>\n",
       "<style scoped>\n",
       "    .dataframe tbody tr th:only-of-type {\n",
       "        vertical-align: middle;\n",
       "    }\n",
       "\n",
       "    .dataframe tbody tr th {\n",
       "        vertical-align: top;\n",
       "    }\n",
       "\n",
       "    .dataframe thead th {\n",
       "        text-align: right;\n",
       "    }\n",
       "</style>\n",
       "<table border=\"1\" class=\"dataframe\">\n",
       "  <thead>\n",
       "    <tr style=\"text-align: right;\">\n",
       "      <th></th>\n",
       "      <th>Number</th>\n",
       "      <th>Year</th>\n",
       "      <th>Album</th>\n",
       "      <th>Artist</th>\n",
       "      <th>Genre</th>\n",
       "      <th>Subgenre</th>\n",
       "    </tr>\n",
       "  </thead>\n",
       "  <tbody>\n",
       "    <tr>\n",
       "      <th>21</th>\n",
       "      <td>22</td>\n",
       "      <td>1990</td>\n",
       "      <td>The Complete Recordings</td>\n",
       "      <td>Robert Johnson</td>\n",
       "      <td>Blues</td>\n",
       "      <td>Delta Blues</td>\n",
       "    </tr>\n",
       "    <tr>\n",
       "      <th>140</th>\n",
       "      <td>141</td>\n",
       "      <td>1965</td>\n",
       "      <td>Live at the Regal</td>\n",
       "      <td>B.B. King</td>\n",
       "      <td>Blues</td>\n",
       "      <td>Chicago Blues</td>\n",
       "    </tr>\n",
       "    <tr>\n",
       "      <th>153</th>\n",
       "      <td>154</td>\n",
       "      <td>1958</td>\n",
       "      <td>Moanin' in the Moonlight</td>\n",
       "      <td>Howlin' Wolf</td>\n",
       "      <td>Blues</td>\n",
       "      <td>Chicago Blues</td>\n",
       "    </tr>\n",
       "    <tr>\n",
       "      <th>197</th>\n",
       "      <td>198</td>\n",
       "      <td>1967</td>\n",
       "      <td>The Best of Little Walter</td>\n",
       "      <td>Little Walter</td>\n",
       "      <td>Blues</td>\n",
       "      <td>Chicago Blues</td>\n",
       "    </tr>\n",
       "    <tr>\n",
       "      <th>237</th>\n",
       "      <td>238</td>\n",
       "      <td>1962</td>\n",
       "      <td>Howlin' Wolf</td>\n",
       "      <td>Howlin' Wolf</td>\n",
       "      <td>Blues</td>\n",
       "      <td>None</td>\n",
       "    </tr>\n",
       "    <tr>\n",
       "      <th>281</th>\n",
       "      <td>282</td>\n",
       "      <td>1964</td>\n",
       "      <td>Folk Singer</td>\n",
       "      <td>Muddy Waters</td>\n",
       "      <td>Blues</td>\n",
       "      <td>Delta Blues</td>\n",
       "    </tr>\n",
       "    <tr>\n",
       "      <th>376</th>\n",
       "      <td>377</td>\n",
       "      <td>1991</td>\n",
       "      <td>The Ultimate Collection: 1948-1990</td>\n",
       "      <td>John Lee Hooker</td>\n",
       "      <td>Blues</td>\n",
       "      <td>Country Blues, Electric Blues, Chicago Blues, ...</td>\n",
       "    </tr>\n",
       "    <tr>\n",
       "      <th>498</th>\n",
       "      <td>499</td>\n",
       "      <td>1971</td>\n",
       "      <td>Live in Cook County Jail</td>\n",
       "      <td>B.B. King</td>\n",
       "      <td>Blues</td>\n",
       "      <td>Electric Blues</td>\n",
       "    </tr>\n",
       "  </tbody>\n",
       "</table>\n",
       "</div>"
      ],
      "text/plain": [
       "     Number  Year                               Album           Artist  Genre  \\\n",
       "21       22  1990             The Complete Recordings   Robert Johnson  Blues   \n",
       "140     141  1965                   Live at the Regal        B.B. King  Blues   \n",
       "153     154  1958            Moanin' in the Moonlight     Howlin' Wolf  Blues   \n",
       "197     198  1967           The Best of Little Walter    Little Walter  Blues   \n",
       "237     238  1962                        Howlin' Wolf     Howlin' Wolf  Blues   \n",
       "281     282  1964                         Folk Singer     Muddy Waters  Blues   \n",
       "376     377  1991  The Ultimate Collection: 1948-1990  John Lee Hooker  Blues   \n",
       "498     499  1971            Live in Cook County Jail        B.B. King  Blues   \n",
       "\n",
       "                                              Subgenre  \n",
       "21                                         Delta Blues  \n",
       "140                                      Chicago Blues  \n",
       "153                                      Chicago Blues  \n",
       "197                                      Chicago Blues  \n",
       "237                                               None  \n",
       "281                                        Delta Blues  \n",
       "376  Country Blues, Electric Blues, Chicago Blues, ...  \n",
       "498                                     Electric Blues  "
      ]
     },
     "execution_count": 41,
     "metadata": {},
     "output_type": "execute_result"
    }
   ],
   "source": [
    "data[data[\"Genre\"] ==\"Blues\"]"
   ]
  },
  {
   "cell_type": "code",
   "execution_count": 45,
   "metadata": {},
   "outputs": [
    {
     "data": {
      "text/html": [
       "<div>\n",
       "<style scoped>\n",
       "    .dataframe tbody tr th:only-of-type {\n",
       "        vertical-align: middle;\n",
       "    }\n",
       "\n",
       "    .dataframe tbody tr th {\n",
       "        vertical-align: top;\n",
       "    }\n",
       "\n",
       "    .dataframe thead th {\n",
       "        text-align: right;\n",
       "    }\n",
       "</style>\n",
       "<table border=\"1\" class=\"dataframe\">\n",
       "  <thead>\n",
       "    <tr style=\"text-align: right;\">\n",
       "      <th></th>\n",
       "      <th>Number</th>\n",
       "      <th>Year</th>\n",
       "      <th>Album</th>\n",
       "      <th>Artist</th>\n",
       "      <th>Genre</th>\n",
       "      <th>Subgenre</th>\n",
       "    </tr>\n",
       "  </thead>\n",
       "  <tbody>\n",
       "    <tr>\n",
       "      <th>21</th>\n",
       "      <td>22</td>\n",
       "      <td>1990</td>\n",
       "      <td>The Complete Recordings</td>\n",
       "      <td>Robert Johnson</td>\n",
       "      <td>Blues</td>\n",
       "      <td>Delta Blues</td>\n",
       "    </tr>\n",
       "    <tr>\n",
       "      <th>140</th>\n",
       "      <td>141</td>\n",
       "      <td>1965</td>\n",
       "      <td>Live at the Regal</td>\n",
       "      <td>B.B. King</td>\n",
       "      <td>Blues</td>\n",
       "      <td>Chicago Blues</td>\n",
       "    </tr>\n",
       "    <tr>\n",
       "      <th>153</th>\n",
       "      <td>154</td>\n",
       "      <td>1958</td>\n",
       "      <td>Moanin' in the Moonlight</td>\n",
       "      <td>Howlin' Wolf</td>\n",
       "      <td>Blues</td>\n",
       "      <td>Chicago Blues</td>\n",
       "    </tr>\n",
       "    <tr>\n",
       "      <th>197</th>\n",
       "      <td>198</td>\n",
       "      <td>1967</td>\n",
       "      <td>The Best of Little Walter</td>\n",
       "      <td>Little Walter</td>\n",
       "      <td>Blues</td>\n",
       "      <td>Chicago Blues</td>\n",
       "    </tr>\n",
       "    <tr>\n",
       "      <th>237</th>\n",
       "      <td>238</td>\n",
       "      <td>1962</td>\n",
       "      <td>Howlin' Wolf</td>\n",
       "      <td>Howlin' Wolf</td>\n",
       "      <td>Blues</td>\n",
       "      <td>None</td>\n",
       "    </tr>\n",
       "    <tr>\n",
       "      <th>277</th>\n",
       "      <td>278</td>\n",
       "      <td>1997</td>\n",
       "      <td>Anthology of American Folk Music</td>\n",
       "      <td>Various</td>\n",
       "      <td>Blues, Folk, World, &amp; Country</td>\n",
       "      <td>Cajun, Country, Field Recording, Gospel, Delta...</td>\n",
       "    </tr>\n",
       "    <tr>\n",
       "      <th>281</th>\n",
       "      <td>282</td>\n",
       "      <td>1964</td>\n",
       "      <td>Folk Singer</td>\n",
       "      <td>Muddy Waters</td>\n",
       "      <td>Blues</td>\n",
       "      <td>Delta Blues</td>\n",
       "    </tr>\n",
       "    <tr>\n",
       "      <th>376</th>\n",
       "      <td>377</td>\n",
       "      <td>1991</td>\n",
       "      <td>The Ultimate Collection: 1948-1990</td>\n",
       "      <td>John Lee Hooker</td>\n",
       "      <td>Blues</td>\n",
       "      <td>Country Blues, Electric Blues, Chicago Blues, ...</td>\n",
       "    </tr>\n",
       "    <tr>\n",
       "      <th>498</th>\n",
       "      <td>499</td>\n",
       "      <td>1971</td>\n",
       "      <td>Live in Cook County Jail</td>\n",
       "      <td>B.B. King</td>\n",
       "      <td>Blues</td>\n",
       "      <td>Electric Blues</td>\n",
       "    </tr>\n",
       "  </tbody>\n",
       "</table>\n",
       "</div>"
      ],
      "text/plain": [
       "     Number  Year                               Album           Artist  \\\n",
       "21       22  1990             The Complete Recordings   Robert Johnson   \n",
       "140     141  1965                   Live at the Regal        B.B. King   \n",
       "153     154  1958            Moanin' in the Moonlight     Howlin' Wolf   \n",
       "197     198  1967           The Best of Little Walter    Little Walter   \n",
       "237     238  1962                        Howlin' Wolf     Howlin' Wolf   \n",
       "277     278  1997    Anthology of American Folk Music          Various   \n",
       "281     282  1964                         Folk Singer     Muddy Waters   \n",
       "376     377  1991  The Ultimate Collection: 1948-1990  John Lee Hooker   \n",
       "498     499  1971            Live in Cook County Jail        B.B. King   \n",
       "\n",
       "                             Genre  \\\n",
       "21                           Blues   \n",
       "140                          Blues   \n",
       "153                          Blues   \n",
       "197                          Blues   \n",
       "237                          Blues   \n",
       "277  Blues, Folk, World, & Country   \n",
       "281                          Blues   \n",
       "376                          Blues   \n",
       "498                          Blues   \n",
       "\n",
       "                                              Subgenre  \n",
       "21                                         Delta Blues  \n",
       "140                                      Chicago Blues  \n",
       "153                                      Chicago Blues  \n",
       "197                                      Chicago Blues  \n",
       "237                                               None  \n",
       "277  Cajun, Country, Field Recording, Gospel, Delta...  \n",
       "281                                        Delta Blues  \n",
       "376  Country Blues, Electric Blues, Chicago Blues, ...  \n",
       "498                                     Electric Blues  "
      ]
     },
     "execution_count": 45,
     "metadata": {},
     "output_type": "execute_result"
    }
   ],
   "source": [
    "data[data[\"Genre\"].str.startswith(\"Blues\")]"
   ]
  },
  {
   "cell_type": "code",
   "execution_count": 48,
   "metadata": {},
   "outputs": [],
   "source": [
    "data[\"contains Blues\"] = data[\"Genre\"].str.contains(\"Blues\")"
   ]
  },
  {
   "cell_type": "code",
   "execution_count": 55,
   "metadata": {},
   "outputs": [],
   "source": [
    "#03 박물관이 살아있다 1\n",
    "\n",
    "df =pd.read_csv(\"museum_1.csv\")\n",
    "is_university = df[\"시설명\"].str.contains('대학교')\n",
    "\n",
    "df.loc[is_university==True , \"분류\"]= \"대학\"\n",
    "df.loc[is_university==False , \"분류\"]= \"일반\""
   ]
  },
  {
   "cell_type": "code",
   "execution_count": 56,
   "metadata": {},
   "outputs": [
    {
     "data": {
      "text/html": [
       "<div>\n",
       "<style scoped>\n",
       "    .dataframe tbody tr th:only-of-type {\n",
       "        vertical-align: middle;\n",
       "    }\n",
       "\n",
       "    .dataframe tbody tr th {\n",
       "        vertical-align: top;\n",
       "    }\n",
       "\n",
       "    .dataframe thead th {\n",
       "        text-align: right;\n",
       "    }\n",
       "</style>\n",
       "<table border=\"1\" class=\"dataframe\">\n",
       "  <thead>\n",
       "    <tr style=\"text-align: right;\">\n",
       "      <th></th>\n",
       "      <th>시설명</th>\n",
       "      <th>어른관람료</th>\n",
       "      <th>운영기관전화번호</th>\n",
       "      <th>분류</th>\n",
       "    </tr>\n",
       "  </thead>\n",
       "  <tbody>\n",
       "    <tr>\n",
       "      <th>0</th>\n",
       "      <td>필암서원 유물전시관</td>\n",
       "      <td>500</td>\n",
       "      <td>061-390-7224</td>\n",
       "      <td>일반</td>\n",
       "    </tr>\n",
       "    <tr>\n",
       "      <th>1</th>\n",
       "      <td>원주역사박물관</td>\n",
       "      <td>0</td>\n",
       "      <td>033-737-4371</td>\n",
       "      <td>일반</td>\n",
       "    </tr>\n",
       "    <tr>\n",
       "      <th>2</th>\n",
       "      <td>뮤지엄산미술관</td>\n",
       "      <td>15000</td>\n",
       "      <td>033-730-9000</td>\n",
       "      <td>일반</td>\n",
       "    </tr>\n",
       "    <tr>\n",
       "      <th>3</th>\n",
       "      <td>오랜미래신화미술관</td>\n",
       "      <td>0</td>\n",
       "      <td>033-746-5256</td>\n",
       "      <td>일반</td>\n",
       "    </tr>\n",
       "    <tr>\n",
       "      <th>4</th>\n",
       "      <td>연세대학교 원주박물관</td>\n",
       "      <td>0</td>\n",
       "      <td>033-760-2731</td>\n",
       "      <td>대학</td>\n",
       "    </tr>\n",
       "  </tbody>\n",
       "</table>\n",
       "</div>"
      ],
      "text/plain": [
       "           시설명  어른관람료      운영기관전화번호  분류\n",
       "0   필암서원 유물전시관    500  061-390-7224  일반\n",
       "1      원주역사박물관      0  033-737-4371  일반\n",
       "2      뮤지엄산미술관  15000  033-730-9000  일반\n",
       "3    오랜미래신화미술관      0  033-746-5256  일반\n",
       "4  연세대학교 원주박물관      0  033-760-2731  대학"
      ]
     },
     "execution_count": 56,
     "metadata": {},
     "output_type": "execute_result"
    }
   ],
   "source": [
    "df.head()"
   ]
  },
  {
   "cell_type": "code",
   "execution_count": 58,
   "metadata": {},
   "outputs": [
    {
     "data": {
      "text/plain": [
       "0                [광주광역시, 북구, 대천로 86]\n",
       "1                [광주광역시, 북구, 삼정로 36]\n",
       "2             [광주광역시, 북구, 임방울대로 877]\n",
       "3                [광주광역시, 북구, 일곡로 55]\n",
       "4               [광주광역시, 북구, 설죽로 526]\n",
       "                    ...             \n",
       "8117     [충청남도, 홍성군, 홍성읍 오관리 472 일원]\n",
       "8118     [경상북도, 영양군, 영양읍 군민회관길 42-6]\n",
       "8119    [경상북도, 영양군, 입암면 신구리 산27-5번지]\n",
       "8120      [경상북도, 영양군, 수비면 발리리 산48번지]\n",
       "8121      [경상북도, 영양군, 영양읍 삼지리 200번지]\n",
       "Name: 소재지도로명주소, Length: 8122, dtype: object"
      ]
     },
     "execution_count": 58,
     "metadata": {},
     "output_type": "execute_result"
    }
   ],
   "source": [
    "df = pd.read_csv(\"parks.csv\")\n",
    "\n",
    "df[\"소재지도로명주소\"].str.split(n=2)\n"
   ]
  },
  {
   "cell_type": "code",
   "execution_count": 59,
   "metadata": {},
   "outputs": [
    {
     "data": {
      "text/html": [
       "<div>\n",
       "<style scoped>\n",
       "    .dataframe tbody tr th:only-of-type {\n",
       "        vertical-align: middle;\n",
       "    }\n",
       "\n",
       "    .dataframe tbody tr th {\n",
       "        vertical-align: top;\n",
       "    }\n",
       "\n",
       "    .dataframe thead th {\n",
       "        text-align: right;\n",
       "    }\n",
       "</style>\n",
       "<table border=\"1\" class=\"dataframe\">\n",
       "  <thead>\n",
       "    <tr style=\"text-align: right;\">\n",
       "      <th></th>\n",
       "      <th>0</th>\n",
       "      <th>1</th>\n",
       "    </tr>\n",
       "  </thead>\n",
       "  <tbody>\n",
       "    <tr>\n",
       "      <th>0</th>\n",
       "      <td>광주광역시</td>\n",
       "      <td>북구 대천로 86</td>\n",
       "    </tr>\n",
       "    <tr>\n",
       "      <th>1</th>\n",
       "      <td>광주광역시</td>\n",
       "      <td>북구 삼정로 36</td>\n",
       "    </tr>\n",
       "    <tr>\n",
       "      <th>2</th>\n",
       "      <td>광주광역시</td>\n",
       "      <td>북구 임방울대로 877</td>\n",
       "    </tr>\n",
       "    <tr>\n",
       "      <th>3</th>\n",
       "      <td>광주광역시</td>\n",
       "      <td>북구 일곡로 55</td>\n",
       "    </tr>\n",
       "    <tr>\n",
       "      <th>4</th>\n",
       "      <td>광주광역시</td>\n",
       "      <td>북구 설죽로 526</td>\n",
       "    </tr>\n",
       "    <tr>\n",
       "      <th>...</th>\n",
       "      <td>...</td>\n",
       "      <td>...</td>\n",
       "    </tr>\n",
       "    <tr>\n",
       "      <th>8117</th>\n",
       "      <td>충청남도</td>\n",
       "      <td>홍성군 홍성읍 오관리 472 일원</td>\n",
       "    </tr>\n",
       "    <tr>\n",
       "      <th>8118</th>\n",
       "      <td>경상북도</td>\n",
       "      <td>영양군 영양읍 군민회관길 42-6</td>\n",
       "    </tr>\n",
       "    <tr>\n",
       "      <th>8119</th>\n",
       "      <td>경상북도</td>\n",
       "      <td>영양군 입암면 신구리 산27-5번지</td>\n",
       "    </tr>\n",
       "    <tr>\n",
       "      <th>8120</th>\n",
       "      <td>경상북도</td>\n",
       "      <td>영양군 수비면 발리리 산48번지</td>\n",
       "    </tr>\n",
       "    <tr>\n",
       "      <th>8121</th>\n",
       "      <td>경상북도</td>\n",
       "      <td>영양군 영양읍 삼지리 200번지</td>\n",
       "    </tr>\n",
       "  </tbody>\n",
       "</table>\n",
       "<p>8122 rows × 2 columns</p>\n",
       "</div>"
      ],
      "text/plain": [
       "          0                    1\n",
       "0     광주광역시            북구 대천로 86\n",
       "1     광주광역시            북구 삼정로 36\n",
       "2     광주광역시         북구 임방울대로 877\n",
       "3     광주광역시            북구 일곡로 55\n",
       "4     광주광역시           북구 설죽로 526\n",
       "...     ...                  ...\n",
       "8117   충청남도   홍성군 홍성읍 오관리 472 일원\n",
       "8118   경상북도   영양군 영양읍 군민회관길 42-6\n",
       "8119   경상북도  영양군 입암면 신구리 산27-5번지\n",
       "8120   경상북도    영양군 수비면 발리리 산48번지\n",
       "8121   경상북도    영양군 영양읍 삼지리 200번지\n",
       "\n",
       "[8122 rows x 2 columns]"
      ]
     },
     "execution_count": 59,
     "metadata": {},
     "output_type": "execute_result"
    }
   ],
   "source": [
    "df[\"소재지도로명주소\"].str.split(n=1 , expand = True)\n"
   ]
  },
  {
   "cell_type": "code",
   "execution_count": 61,
   "metadata": {},
   "outputs": [],
   "source": [
    "df = pd.read_csv(\"museum_2.csv\")\n",
    "\n",
    "df[\"지역번호\"] = df[\"운영기관전화번호\"].str.split(\"-\", n=1, expand=True)[0]"
   ]
  },
  {
   "cell_type": "code",
   "execution_count": null,
   "metadata": {},
   "outputs": [],
   "source": [
    "df = pd.read_csv(\"museum_3.csv\")\n",
    "\n",
    "df2 = {\n",
    "    \n",
    "}"
   ]
  }
 ],
 "metadata": {
  "kernelspec": {
   "display_name": "Python 3",
   "language": "python",
   "name": "python3"
  },
  "language_info": {
   "codemirror_mode": {
    "name": "ipython",
    "version": 3
   },
   "file_extension": ".py",
   "mimetype": "text/x-python",
   "name": "python",
   "nbconvert_exporter": "python",
   "pygments_lexer": "ipython3",
   "version": "3.7.7"
  }
 },
 "nbformat": 4,
 "nbformat_minor": 4
}
